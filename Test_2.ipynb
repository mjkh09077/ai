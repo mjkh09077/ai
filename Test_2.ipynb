{
  "nbformat": 4,
  "nbformat_minor": 0,
  "metadata": {
    "colab": {
      "name": "Test_2.ipynb",
      "provenance": [],
      "authorship_tag": "ABX9TyMrdxN7SMUA4AKSgw0Y0+pq",
      "include_colab_link": true
    },
    "kernelspec": {
      "name": "python3",
      "display_name": "Python 3"
    },
    "language_info": {
      "name": "python"
    }
  },
  "cells": [
    {
      "cell_type": "markdown",
      "metadata": {
        "id": "view-in-github",
        "colab_type": "text"
      },
      "source": [
        "<a href=\"https://colab.research.google.com/github/mjkh09077/ai/blob/main/Test_2.ipynb\" target=\"_parent\"><img src=\"https://colab.research.google.com/assets/colab-badge.svg\" alt=\"Open In Colab\"/></a>"
      ]
    },
    {
      "cell_type": "code",
      "execution_count": 2,
      "metadata": {
        "colab": {
          "base_uri": "https://localhost:8080/"
        },
        "id": "p-ZCdCUCS7Y_",
        "outputId": "85c05340-9fdf-481c-e628-ec4d7d75ae67"
      },
      "outputs": [
        {
          "output_type": "stream",
          "name": "stdout",
          "text": [
            "[-19, -7, -5, -5, -4, -4, 0, 3, 3, 6, 7, 8, 11, 11, 13, 21]\n"
          ]
        }
      ],
      "source": [
        "array1 = [7,-5,3,8,-4,11,-19,21]      #array1 정의\n",
        "array2 = [6,13,-7,0,11,-4,3,-5]    #array2 정의\n",
        "array3 = []\n",
        "\n",
        "for x,y in zip(array1,array2):          #array1,2에 있는 요소 x,y를\n",
        "  array3.append(x);array3.append(y)     #array3에 추가\n",
        "  array3.sort()                         #array3 오름차순으로 정렬\n",
        "\n",
        "print(array3)                           #array3출력"
      ]
    }
  ]
}