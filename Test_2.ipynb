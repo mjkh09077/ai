{
  "nbformat": 4,
  "nbformat_minor": 0,
  "metadata": {
    "colab": {
      "name": "Test_2.ipynb",
      "provenance": [],
      "authorship_tag": "ABX9TyN+SuLErTs7RnlrT5vkAtKW",
      "include_colab_link": true
    },
    "kernelspec": {
      "name": "python3",
      "display_name": "Python 3"
    },
    "language_info": {
      "name": "python"
    }
  },
  "cells": [
    {
      "cell_type": "markdown",
      "metadata": {
        "id": "view-in-github",
        "colab_type": "text"
      },
      "source": [
        "<a href=\"https://colab.research.google.com/github/mjkh09077/ai/blob/main/Test_2.ipynb\" target=\"_parent\"><img src=\"https://colab.research.google.com/assets/colab-badge.svg\" alt=\"Open In Colab\"/></a>"
      ]
    },
    {
      "cell_type": "code",
      "execution_count": null,
      "metadata": {
        "id": "p-ZCdCUCS7Y_"
      },
      "outputs": [],
      "source": [
        "array1 = [7,-5,3,8,-4,11,-19]      #array1 정의\n",
        "array2 = [6,13,-7,0,11,-4,3,-5]    #array2 정의\n",
        "array3 = []\n",
        "\n",
        "for x,y in zip(array1,array2):          #array1,2에 있는 요소 x,y를\n",
        "  array3.append(x);array3.append(y)     #array3에 추가\n",
        "  array3.sort()                         #array3 오름차순으로 정렬\n",
        "\n",
        "print(array3)                           #array3출력"
      ]
    }
  ]
}