{
  "nbformat": 4,
  "nbformat_minor": 0,
  "metadata": {
    "colab": {
      "name": "Exam_20220214.ipynb",
      "provenance": [],
      "authorship_tag": "ABX9TyO3/V9pxifRv8ghlyQDf8VC",
      "include_colab_link": true
    },
    "kernelspec": {
      "name": "python3",
      "display_name": "Python 3"
    },
    "language_info": {
      "name": "python"
    }
  },
  "cells": [
    {
      "cell_type": "markdown",
      "metadata": {
        "id": "view-in-github",
        "colab_type": "text"
      },
      "source": [
        "<a href=\"https://colab.research.google.com/github/mjkh09077/ai/blob/main/Exam_20220214.ipynb\" target=\"_parent\"><img src=\"https://colab.research.google.com/assets/colab-badge.svg\" alt=\"Open In Colab\"/></a>"
      ]
    },
    {
      "cell_type": "code",
      "execution_count": 8,
      "metadata": {
        "colab": {
          "base_uri": "https://localhost:8080/"
        },
        "id": "EG0VOPv9vtOO",
        "outputId": "181340f6-f2b1-4fdc-80d9-9806203a3f8b"
      },
      "outputs": [
        {
          "output_type": "stream",
          "name": "stdout",
          "text": [
            "Enter string >>> HeLLo\n",
            "The number of lowercase characters is : 2\n",
            "The number of uppercase characters is : 3\n"
          ]
        }
      ],
      "source": [
        "#case1\n",
        "str = input('Enter string >>> ')         #문자열 입력\n",
        "\n",
        "lo = ''                               #lower문자는 lo로 정의\n",
        "up = ''                               #upper문자는 up로 정의\n",
        "\n",
        "for i in str:                         #i가 입력한 문자열 str에 있을 때 \n",
        "  if i.islower():                     #소문자인지 확인하는 함수 islower()을 사용\n",
        "    lo = lo + i                       #소문자라면 lo에 추가\n",
        "  elif i.isupper():                   #대문자인지 확인하는 함수 isupper() 사용\n",
        "    up = up + i                       #대문자면 up에 추가\n",
        "\n",
        "print(f'The number of lowercase characters is : {len(lo)}')       #문자 개수 세는 함수 len()을 사용해서 lo와 up의 개수 출력\n",
        "print(f'The number of uppercase characters is : {len(up)}')       "
      ]
    },
    {
      "cell_type": "code",
      "source": [
        "#case2\n",
        "str = input('Enter string >>> ')\n",
        "\n",
        "lo = ''\n",
        "up = ''\n",
        "\n",
        "for i in str:\n",
        "  if i.islower():\n",
        "    lo = lo + i\n",
        "  elif i.isupper():\n",
        "    up = up + i\n",
        "\n",
        "print(f'The number of lowercase characters is : {len(lo)}')\n",
        "print(f'The number of uppercase characters is : {len(up)}')"
      ],
      "metadata": {
        "colab": {
          "base_uri": "https://localhost:8080/"
        },
        "id": "7P3HXW7FzI61",
        "outputId": "2b16e216-73f3-46dc-c9e3-86fa1cdcf530"
      },
      "execution_count": 9,
      "outputs": [
        {
          "output_type": "stream",
          "name": "stdout",
          "text": [
            "Enter string >>> SanFouNdry\n",
            "The number of lowercase characters is : 7\n",
            "The number of uppercase characters is : 3\n"
          ]
        }
      ]
    },
    {
      "cell_type": "code",
      "source": [
        "#extra credit\n",
        "str = input('Enter string >>> ')\n",
        "\n",
        "print(str.swapcase())"
      ],
      "metadata": {
        "colab": {
          "base_uri": "https://localhost:8080/"
        },
        "id": "USkoh4f11Jbm",
        "outputId": "2703a882-9336-49de-b181-1394cf65201c"
      },
      "execution_count": 10,
      "outputs": [
        {
          "output_type": "stream",
          "name": "stdout",
          "text": [
            "Enter string >>> HeLLo\n",
            "hEllO\n"
          ]
        }
      ]
    }
  ]
}