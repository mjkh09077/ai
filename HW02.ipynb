{
  "nbformat": 4,
  "nbformat_minor": 0,
  "metadata": {
    "colab": {
      "name": "Untitled0.ipynb",
      "provenance": [],
      "authorship_tag": "ABX9TyPE5XTl3djEHDI6beJldTeD",
      "include_colab_link": true
    },
    "kernelspec": {
      "name": "python3",
      "display_name": "Python 3"
    },
    "language_info": {
      "name": "python"
    }
  },
  "cells": [
    {
      "cell_type": "markdown",
      "metadata": {
        "id": "view-in-github",
        "colab_type": "text"
      },
      "source": [
        "<a href=\"https://colab.research.google.com/github/mjkh09077/ai/blob/main/HW02.ipynb\" target=\"_parent\"><img src=\"https://colab.research.google.com/assets/colab-badge.svg\" alt=\"Open In Colab\"/></a>"
      ]
    },
    {
      "cell_type": "code",
      "execution_count": 18,
      "metadata": {
        "colab": {
          "base_uri": "https://localhost:8080/"
        },
        "id": "oMQCa_1lakhD",
        "outputId": "0120ac2c-d74f-4e23-8fb3-9f4b791ed656"
      },
      "outputs": [
        {
          "output_type": "stream",
          "name": "stdout",
          "text": [
            "['닥터 스트레인지', '스플릿', '럭키', '배트맨']\n",
            "['닥터 스트레인지', '슈퍼맨', '스플릿', '럭키', '배트맨']\n",
            "['닥터 스트레인지', '슈퍼맨', '스플릿', '배트맨']\n",
            "['닥터 스트레인지', '슈퍼맨']\n",
            "['C', 'C++', 'JAVA', 'Python', 'Go', 'C#']\n",
            "1\n",
            "7\n",
            "15\n",
            "3.0\n"
          ]
        }
      ],
      "source": [
        "#051\n",
        "movie_rank = ['닥터 스트레인지', '스플릿', '럭키']\n",
        "\n",
        "#052\n",
        "movie_rank.append('배트맨')\n",
        "print(movie_rank)\n",
        "\n",
        "#053\n",
        "movie_rank.insert(1,'슈퍼맨')\n",
        "print(movie_rank)\n",
        "\n",
        "#054\n",
        "del movie_rank[3]\n",
        "print(movie_rank)\n",
        "\n",
        "#055\n",
        "del movie_rank[2:4]\n",
        "print(movie_rank)\n",
        "\n",
        "#056\n",
        "lang1 = [\"C\", \"C++\", \"JAVA\"]\n",
        "lang2 = [\"Python\", \"Go\", \"C#\"]\n",
        "print(lang1+lang2)\n",
        "\n",
        "#057\n",
        "nums = [1, 2, 3, 4, 5, 6, 7]\n",
        "print(min(nums))\n",
        "print(max(nums))\n",
        "\n",
        "#058\n",
        "nums = [1, 2, 3, 4, 5]\n",
        "print(sum(nums))\n",
        "\n",
        "#059\n",
        "cook = [\"피자\", \"김밥\", \"만두\", \"양념치킨\", \"족발\", \"피자\", \"김치만두\", \"쫄면\", \"쏘세지\", \"라면\", \"팥빙수\", \"김치전\"]\n",
        "len(cook)\n",
        "\n",
        "#060\n",
        "nums = [1, 2, 3, 4, 5]\n",
        "\n",
        "print(sum(nums)/len(nums))"
      ]
    },
    {
      "cell_type": "code",
      "source": [
        "#121\n",
        "n = str(input(''))\n",
        "\n",
        "if n.isupper():\n",
        "  print(n.lower())\n",
        "\n",
        "else:\n",
        "  print(n.upper())\n"
      ],
      "metadata": {
        "colab": {
          "base_uri": "https://localhost:8080/"
        },
        "id": "gkZktuWKdz3C",
        "outputId": "f8b49f4f-7980-4fac-9890-0706f4de465e"
      },
      "execution_count": 57,
      "outputs": [
        {
          "output_type": "stream",
          "name": "stdout",
          "text": [
            "a\n",
            "A\n"
          ]
        }
      ]
    },
    {
      "cell_type": "code",
      "source": [
        "#122\n",
        "score = int(input(\"당신의 점수를 입력하세요 >> \"))\n",
        "gr = \"\"\n",
        "if score >=81:\n",
        "  gr = \"A\"\n",
        "elif score >=61:\n",
        "  gr = \"B\"\n",
        "elif score >=41:\n",
        "  gr = \"C\"\n",
        "elif score >=21:\n",
        "  gr = \"D\"\n",
        "else:\n",
        "  gr = \"E\"\n",
        "\n",
        "print(f\"grade is {gr}\")"
      ],
      "metadata": {
        "colab": {
          "base_uri": "https://localhost:8080/"
        },
        "id": "WwpTuIE0fU4c",
        "outputId": "e6d2c61e-8b34-4dd0-eae5-4ceb0ed52952"
      },
      "execution_count": 28,
      "outputs": [
        {
          "output_type": "stream",
          "name": "stdout",
          "text": [
            "당신의 점수를 입력하세요 >> 83\n",
            "grade is A\n"
          ]
        }
      ]
    },
    {
      "cell_type": "code",
      "source": [
        "#123\n",
        "m = {\"달러\": 1167,\"엔\": 1.096,\"유로\": 1268,\"위안\": 171}\n",
        "s = input(\"입력: \")\n",
        "c = s.split()\n",
        "print(float(c) * m, \"원\")"
      ],
      "metadata": {
        "colab": {
          "base_uri": "https://localhost:8080/",
          "height": 229
        },
        "id": "CB5AsIw1gImO",
        "outputId": "a4ddf491-6be9-44d4-b056-f2264a0e03bd"
      },
      "execution_count": 59,
      "outputs": [
        {
          "name": "stdout",
          "output_type": "stream",
          "text": [
            "입력: 100달러\n"
          ]
        },
        {
          "output_type": "error",
          "ename": "TypeError",
          "evalue": "ignored",
          "traceback": [
            "\u001b[0;31m---------------------------------------------------------------------------\u001b[0m",
            "\u001b[0;31mTypeError\u001b[0m                                 Traceback (most recent call last)",
            "\u001b[0;32m<ipython-input-59-b3eeb862681a>\u001b[0m in \u001b[0;36m<module>\u001b[0;34m()\u001b[0m\n\u001b[1;32m      3\u001b[0m \u001b[0ms\u001b[0m \u001b[0;34m=\u001b[0m \u001b[0minput\u001b[0m\u001b[0;34m(\u001b[0m\u001b[0;34m\"입력: \"\u001b[0m\u001b[0;34m)\u001b[0m\u001b[0;34m\u001b[0m\u001b[0;34m\u001b[0m\u001b[0m\n\u001b[1;32m      4\u001b[0m \u001b[0mc\u001b[0m \u001b[0;34m=\u001b[0m \u001b[0ms\u001b[0m\u001b[0;34m.\u001b[0m\u001b[0msplit\u001b[0m\u001b[0;34m(\u001b[0m\u001b[0;34m)\u001b[0m\u001b[0;34m\u001b[0m\u001b[0;34m\u001b[0m\u001b[0m\n\u001b[0;32m----> 5\u001b[0;31m \u001b[0mprint\u001b[0m\u001b[0;34m(\u001b[0m\u001b[0mfloat\u001b[0m\u001b[0;34m(\u001b[0m\u001b[0mc\u001b[0m\u001b[0;34m)\u001b[0m \u001b[0;34m*\u001b[0m \u001b[0mm\u001b[0m\u001b[0;34m,\u001b[0m \u001b[0;34m\"원\"\u001b[0m\u001b[0;34m)\u001b[0m\u001b[0;34m\u001b[0m\u001b[0;34m\u001b[0m\u001b[0m\n\u001b[0m",
            "\u001b[0;31mTypeError\u001b[0m: float() argument must be a string or a number, not 'list'"
          ]
        }
      ]
    },
    {
      "cell_type": "code",
      "source": [
        "#124\n",
        "a = input('number1')\n",
        "b = input('number2')\n",
        "c = input('number3')\n",
        "s= {a,b,c}\n",
        "\n",
        "print(max(s))"
      ],
      "metadata": {
        "colab": {
          "base_uri": "https://localhost:8080/"
        },
        "id": "FBo-x5TyhlhQ",
        "outputId": "f1ba247d-ba40-4be9-9fba-0db8dc721572"
      },
      "execution_count": 34,
      "outputs": [
        {
          "output_type": "stream",
          "name": "stdout",
          "text": [
            "number11\n",
            "number29\n",
            "number35\n",
            "9\n"
          ]
        }
      ]
    },
    {
      "cell_type": "code",
      "source": [
        "#125\n",
        "number = input('휴대전화 번호 입력')\n",
        "n = number.split(\"-\")[0]\n",
        "\n",
        "if n == '011':\n",
        "  c = \"SKT\"\n",
        "elif n == '016':\n",
        "  c = \"KT\"\n",
        "elif n == '019':\n",
        "  c = \"LGU\"\n",
        "else:\n",
        "  c = \"알수없음\"\n",
        "\n",
        "print(f\"당신은 {c} 사용자입니다.\")"
      ],
      "metadata": {
        "colab": {
          "base_uri": "https://localhost:8080/"
        },
        "id": "bPmeHzEbiKsj",
        "outputId": "f99318fd-0d09-4bc5-c32c-b07f2176712d"
      },
      "execution_count": 62,
      "outputs": [
        {
          "output_type": "stream",
          "name": "stdout",
          "text": [
            "휴대전화 번호 입력010-1234-5678\n",
            "당신은 알수없음 사용자입니다.\n"
          ]
        }
      ]
    },
    {
      "cell_type": "code",
      "source": [
        "#126\n",
        "n = input('우편번호 입력')\n",
        "c = n[:3]\n",
        "\n",
        "if n in ['010','011','012']:\n",
        "  c = \"강북구\"\n",
        "elif n in ['014','015','016']:\n",
        "  c = \"도봉구\"\n",
        "else:\n",
        "  c = \"노원구\"\n",
        "\n",
        "print(f\"{c}\")"
      ],
      "metadata": {
        "colab": {
          "base_uri": "https://localhost:8080/"
        },
        "id": "sD-4wdtRjpkD",
        "outputId": "fb4a2511-1723-4a2e-d5a6-5e28352a2f40"
      },
      "execution_count": 66,
      "outputs": [
        {
          "output_type": "stream",
          "name": "stdout",
          "text": [
            "우편번호 입력01400\n",
            "노원구\n"
          ]
        }
      ]
    },
    {
      "cell_type": "code",
      "source": [
        "#127\n",
        "n = input('주민등록번호 입력')\n",
        "c = n.split(\"-\")[1]\n",
        "\n",
        "if c[0] == 1 or 3:\n",
        "  c = \"남자\"\n",
        "else:\n",
        "  c = \"여자\"\n",
        "\n",
        "print(f\"{c}\")"
      ],
      "metadata": {
        "colab": {
          "base_uri": "https://localhost:8080/"
        },
        "id": "Aq8YscA-krrI",
        "outputId": "11f0d02c-f53e-4483-8cd9-8bb3ee7d4118"
      },
      "execution_count": 67,
      "outputs": [
        {
          "output_type": "stream",
          "name": "stdout",
          "text": [
            "주민등록번호 입력821010-1635210\n",
            "남자\n"
          ]
        }
      ]
    },
    {
      "cell_type": "code",
      "source": [
        "#128\n",
        "n = input('주민등록번호 입력')\n",
        "c = n.split(\"-\")[1]\n",
        "\n",
        "if 0<= int(c[1:3]) <= 8:\n",
        "  print(\"서울입니다.\")\n",
        "else:\n",
        "  print(\"서울이 아닙니다.\")\n",
        "\n",
        "\n"
      ],
      "metadata": {
        "colab": {
          "base_uri": "https://localhost:8080/"
        },
        "id": "VnMj-6QTlxv8",
        "outputId": "f6dc9977-9912-4754-850e-8eca346bf43f"
      },
      "execution_count": 70,
      "outputs": [
        {
          "output_type": "stream",
          "name": "stdout",
          "text": [
            "주민등록번호 입력861010-1015210\n",
            "서울입니다.\n"
          ]
        }
      ]
    },
    {
      "cell_type": "code",
      "source": [
        "#129\n",
        "??"
      ],
      "metadata": {
        "colab": {
          "base_uri": "https://localhost:8080/"
        },
        "id": "AGTHdCY9z298",
        "outputId": "48fb9cf7-dc34-4e91-ed58-f82cf2ad5641"
      },
      "execution_count": 71,
      "outputs": [
        {
          "output_type": "stream",
          "name": "stdout",
          "text": [
            "Object `` not found.\n"
          ]
        }
      ]
    },
    {
      "cell_type": "code",
      "source": [
        "#130\n",
        "dic = {opening_price}\n",
        "\n",
        "??"
      ],
      "metadata": {
        "id": "hQ6BxDj70Y9h"
      },
      "execution_count": null,
      "outputs": []
    }
  ]
}