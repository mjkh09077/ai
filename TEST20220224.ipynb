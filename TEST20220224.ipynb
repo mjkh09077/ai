{
  "nbformat": 4,
  "nbformat_minor": 0,
  "metadata": {
    "colab": {
      "name": "TEST20220224.ipynb",
      "provenance": [],
      "authorship_tag": "ABX9TyN+WR19xaPlf3tHbBV3CCFy",
      "include_colab_link": true
    },
    "kernelspec": {
      "name": "python3",
      "display_name": "Python 3"
    },
    "language_info": {
      "name": "python"
    }
  },
  "cells": [
    {
      "cell_type": "markdown",
      "metadata": {
        "id": "view-in-github",
        "colab_type": "text"
      },
      "source": [
        "<a href=\"https://colab.research.google.com/github/mjkh09077/ai/blob/main/TEST20220224.ipynb\" target=\"_parent\"><img src=\"https://colab.research.google.com/assets/colab-badge.svg\" alt=\"Open In Colab\"/></a>"
      ]
    },
    {
      "cell_type": "code",
      "source": [
        "def fibo(n):\n",
        "    a = [0,1]\n",
        "    \n",
        "    for i in range(2,n+1):\n",
        "        b = a[-1] + a[-2]\n",
        "        a.append(b)\n",
        "    return a\n",
        "\n",
        "\n",
        "a = fibo(11)\n",
        "print(a)\n",
        "print(len(a))"
      ],
      "metadata": {
        "colab": {
          "base_uri": "https://localhost:8080/"
        },
        "id": "HFNifKnDmJdq",
        "outputId": "22ff7681-474d-46a9-d6f8-2ee975533fe8"
      },
      "execution_count": 29,
      "outputs": [
        {
          "output_type": "stream",
          "name": "stdout",
          "text": [
            "[0, 1, 1, 2, 3, 5, 8, 13, 21, 34, 55, 89]\n",
            "12\n"
          ]
        }
      ]
    }
  ]
}