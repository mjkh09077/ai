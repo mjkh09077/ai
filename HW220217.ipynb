{
  "nbformat": 4,
  "nbformat_minor": 0,
  "metadata": {
    "colab": {
      "name": "HW220217.ipynb",
      "provenance": [],
      "authorship_tag": "ABX9TyPbbARWX3OOHIejTPJ0zfgS",
      "include_colab_link": true
    },
    "kernelspec": {
      "name": "python3",
      "display_name": "Python 3"
    },
    "language_info": {
      "name": "python"
    }
  },
  "cells": [
    {
      "cell_type": "markdown",
      "metadata": {
        "id": "view-in-github",
        "colab_type": "text"
      },
      "source": [
        "<a href=\"https://colab.research.google.com/github/mjkh09077/ai/blob/main/HW220217.ipynb\" target=\"_parent\"><img src=\"https://colab.research.google.com/assets/colab-badge.svg\" alt=\"Open In Colab\"/></a>"
      ]
    },
    {
      "cell_type": "code",
      "execution_count": 1,
      "metadata": {
        "colab": {
          "base_uri": "https://localhost:8080/"
        },
        "id": "MDvEH24gt3Nq",
        "outputId": "7cc1f741-37a4-4dbb-9117-ab3b87b1cdc8"
      },
      "outputs": [
        {
          "output_type": "stream",
          "name": "stdout",
          "text": [
            "day week "
          ]
        }
      ],
      "source": [
        "#536\n",
        "x = {'day':'Sunday', 'week':10} \n",
        "for i in x.keys():\n",
        "  print(i, end=' ')\n",
        "\n",
        "b"
      ]
    },
    {
      "cell_type": "code",
      "source": [
        "#537\n",
        "x = {'day':'Sunday', 'week':10} \n",
        "for i in x.items():\n",
        "  print(i, end=' ')\n",
        "\n",
        "a"
      ],
      "metadata": {
        "colab": {
          "base_uri": "https://localhost:8080/"
        },
        "id": "WGQ_3CUZuGSD",
        "outputId": "d60f37a9-92d8-4510-8c49-e9e670ec00de"
      },
      "execution_count": 2,
      "outputs": [
        {
          "output_type": "stream",
          "name": "stdout",
          "text": [
            "('day', 'Sunday') ('week', 10) "
          ]
        }
      ]
    },
    {
      "cell_type": "code",
      "source": [
        "#538\n",
        "x = {'day':'Sunday', 'week':10} \n",
        "print(list(x.keys()))\n",
        "\n",
        "c"
      ],
      "metadata": {
        "colab": {
          "base_uri": "https://localhost:8080/"
        },
        "id": "lGSJzWVauNJH",
        "outputId": "cc4dcb62-abf1-4d03-dfa1-fff8fa7c8899"
      },
      "execution_count": 3,
      "outputs": [
        {
          "output_type": "stream",
          "name": "stdout",
          "text": [
            "['day', 'week']\n"
          ]
        }
      ]
    },
    {
      "cell_type": "code",
      "source": [
        "#539\n",
        "x = {'day':'Sunday', 'week':10} \n",
        "print(tuple(x.items())) \n",
        "\n",
        "b"
      ],
      "metadata": {
        "colab": {
          "base_uri": "https://localhost:8080/"
        },
        "id": "LAtufn0OuTYy",
        "outputId": "bd7ee974-32f8-43c9-9e9b-29f96478c128"
      },
      "execution_count": 4,
      "outputs": [
        {
          "output_type": "stream",
          "name": "stdout",
          "text": [
            "(('day', 'Sunday'), ('week', 10))\n"
          ]
        }
      ]
    },
    {
      "cell_type": "code",
      "source": [
        "#540\n",
        "x = {'day':'Sunday', 'week':10} \n",
        "print(tuple(x.values())) \n",
        "\n",
        "b"
      ],
      "metadata": {
        "colab": {
          "base_uri": "https://localhost:8080/"
        },
        "id": "RO8GS1MsudzD",
        "outputId": "c1fb3c15-42a6-4bcf-b265-b401d30a3972"
      },
      "execution_count": 5,
      "outputs": [
        {
          "output_type": "stream",
          "name": "stdout",
          "text": [
            "('Sunday', 10)\n"
          ]
        }
      ]
    },
    {
      "cell_type": "code",
      "source": [
        "#541\n",
        "x = {'day':'Sunday', 'week':10} \n",
        "for i, j in x.items():\n",
        "  print(i, j, end=' ')\n",
        "\n",
        "d"
      ],
      "metadata": {
        "colab": {
          "base_uri": "https://localhost:8080/"
        },
        "id": "vxCwyhLlujhr",
        "outputId": "16d0ea3f-e207-46bd-eeaa-ba67cbdde170"
      },
      "execution_count": 6,
      "outputs": [
        {
          "output_type": "stream",
          "name": "stdout",
          "text": [
            "day Sunday week 10 "
          ]
        }
      ]
    },
    {
      "cell_type": "code",
      "source": [
        "#542\n",
        "x = {'day':'Sunday', 'week':10} \n",
        "print('day' in x.values()) \n",
        "\n",
        "c"
      ],
      "metadata": {
        "colab": {
          "base_uri": "https://localhost:8080/"
        },
        "id": "80cCK0uvusws",
        "outputId": "96f53850-0b58-41aa-d714-f3d3a794d681"
      },
      "execution_count": 7,
      "outputs": [
        {
          "output_type": "stream",
          "name": "stdout",
          "text": [
            "False\n"
          ]
        }
      ]
    },
    {
      "cell_type": "code",
      "source": [
        "#543\n",
        "x = {'day':'Sunday', 'week':10} \n",
        "print('day' in x.keys()) \n",
        "\n",
        "b"
      ],
      "metadata": {
        "colab": {
          "base_uri": "https://localhost:8080/"
        },
        "id": "UiotMOW1u9Ea",
        "outputId": "dc135ebc-3d98-4683-f83b-03b1b82608f6"
      },
      "execution_count": 8,
      "outputs": [
        {
          "output_type": "stream",
          "name": "stdout",
          "text": [
            "True\n"
          ]
        }
      ]
    },
    {
      "cell_type": "code",
      "source": [
        "#544\n",
        "x = {'day':'Sunday', 'week':10} \n",
        "print(x.get('day', 'Friday'))\n",
        "\n",
        "c"
      ],
      "metadata": {
        "colab": {
          "base_uri": "https://localhost:8080/"
        },
        "id": "HoiQ8iTLvCX-",
        "outputId": "af5dfb3f-6f64-41cb-e858-5791129f5310"
      },
      "execution_count": 10,
      "outputs": [
        {
          "output_type": "stream",
          "name": "stdout",
          "text": [
            "Sunday\n"
          ]
        }
      ]
    },
    {
      "cell_type": "code",
      "source": [
        "#545\n",
        "x = {'day':'Sunday', 'week':10} \n",
        "print(x.get('days', 'Friday'))\n",
        "\n",
        "a"
      ],
      "metadata": {
        "colab": {
          "base_uri": "https://localhost:8080/"
        },
        "id": "5a8o_Q0KvJSC",
        "outputId": "3cb91703-0a93-4249-c030-a21cb5d501a0"
      },
      "execution_count": 12,
      "outputs": [
        {
          "output_type": "stream",
          "name": "stdout",
          "text": [
            "Friday\n"
          ]
        }
      ]
    },
    {
      "cell_type": "code",
      "source": [
        "#546\n",
        "x = {'day':'Sunday', 'week':10} \n",
        "print(x.get('weak', 5))\n",
        "\n",
        "b"
      ],
      "metadata": {
        "colab": {
          "base_uri": "https://localhost:8080/"
        },
        "id": "VB4bZKFnvPtW",
        "outputId": "59ec5d7f-1b2b-4f00-bd3c-0d7b6d833729"
      },
      "execution_count": 13,
      "outputs": [
        {
          "output_type": "stream",
          "name": "stdout",
          "text": [
            "5\n"
          ]
        }
      ]
    },
    {
      "cell_type": "code",
      "source": [
        "#547\n",
        "x = {'day':'Sunday', 'week':10} \n",
        "print(x.get('week', 5)) \n",
        "\n",
        "a"
      ],
      "metadata": {
        "colab": {
          "base_uri": "https://localhost:8080/"
        },
        "id": "eyOTEUowvXF3",
        "outputId": "7928f597-4e1b-4b99-c1fe-df32f04b36c1"
      },
      "execution_count": 14,
      "outputs": [
        {
          "output_type": "stream",
          "name": "stdout",
          "text": [
            "10\n"
          ]
        }
      ]
    },
    {
      "cell_type": "code",
      "source": [
        "#548\n",
        "x = {'day':'Sunday', 'week':10} \n",
        "print(x.get('year', 2016)) \n",
        "\n",
        "b"
      ],
      "metadata": {
        "colab": {
          "base_uri": "https://localhost:8080/"
        },
        "id": "0qbVaAClvcDr",
        "outputId": "aee15b4f-c7e4-4aa3-814c-f31125b4bab0"
      },
      "execution_count": 15,
      "outputs": [
        {
          "output_type": "stream",
          "name": "stdout",
          "text": [
            "2016\n"
          ]
        }
      ]
    },
    {
      "cell_type": "code",
      "source": [
        "#549\n",
        "x = {'year': 2016, 'month': 'March'} \n",
        "if 'day' not in x:\n",
        "  x['day'] = 'Tuesday' \n",
        "  print(x)\n",
        "\n",
        "d"
      ],
      "metadata": {
        "colab": {
          "base_uri": "https://localhost:8080/"
        },
        "id": "UMXxLNxRvgTh",
        "outputId": "683a6df1-31a1-4003-9f85-011a73f957ea"
      },
      "execution_count": 17,
      "outputs": [
        {
          "output_type": "stream",
          "name": "stdout",
          "text": [
            "{'year': 2016, 'month': 'March', 'day': 'Tuesday'}\n"
          ]
        }
      ]
    },
    {
      "cell_type": "code",
      "source": [
        "#550\n",
        "x = {'year': 2016, 'month': 'March'} \n",
        "x.setdefault('day', 'Tuesday') \n",
        "print(x)\n",
        "\n",
        "d"
      ],
      "metadata": {
        "colab": {
          "base_uri": "https://localhost:8080/"
        },
        "id": "-hKa7W1lv809",
        "outputId": "18b0cd36-b686-4b5c-9f38-33fdcdbd6793"
      },
      "execution_count": 18,
      "outputs": [
        {
          "output_type": "stream",
          "name": "stdout",
          "text": [
            "{'year': 2016, 'month': 'March', 'day': 'Tuesday'}\n"
          ]
        }
      ]
    },
    {
      "cell_type": "code",
      "source": [
        "#551\n",
        "x = {'year': 2016, 'month': 'March'} \n",
        "x.setdefault('day', 'Tuesday') \n",
        "x.setdefault('day', 'Monday') \n",
        "print(x) \n",
        "\n",
        "c"
      ],
      "metadata": {
        "colab": {
          "base_uri": "https://localhost:8080/"
        },
        "id": "IYmF4tdlwDB3",
        "outputId": "8330fea9-db15-4693-aebe-b8b1ef303629"
      },
      "execution_count": 19,
      "outputs": [
        {
          "output_type": "stream",
          "name": "stdout",
          "text": [
            "{'year': 2016, 'month': 'March', 'day': 'Tuesday'}\n"
          ]
        }
      ]
    },
    {
      "cell_type": "code",
      "source": [
        "#552\n",
        "x = {}\n",
        "print(type(x))\n",
        "\n",
        "d"
      ],
      "metadata": {
        "colab": {
          "base_uri": "https://localhost:8080/"
        },
        "id": "ISF7it1fwe-3",
        "outputId": "49e46bee-0279-4783-9ffb-6cc2e6f1177a"
      },
      "execution_count": 20,
      "outputs": [
        {
          "output_type": "stream",
          "name": "stdout",
          "text": [
            "<class 'dict'>\n"
          ]
        }
      ]
    },
    {
      "cell_type": "code",
      "source": [
        "#553\n",
        "print(r'Today is a \\n nice day')\n",
        "\n",
        "a"
      ],
      "metadata": {
        "colab": {
          "base_uri": "https://localhost:8080/"
        },
        "id": "lDADJxvTwkBd",
        "outputId": "ff21b350-5109-4748-c8f8-277a01a99f83"
      },
      "execution_count": 24,
      "outputs": [
        {
          "output_type": "stream",
          "name": "stdout",
          "text": [
            "Today is a \\n nice day\n"
          ]
        }
      ]
    },
    {
      "cell_type": "code",
      "source": [
        "#554\n",
        "x = 'python jobs' \n",
        "x.upper() \n",
        "print(x)\n",
        "\n",
        "d"
      ],
      "metadata": {
        "colab": {
          "base_uri": "https://localhost:8080/"
        },
        "id": "48SUKra4wvPP",
        "outputId": "4487e9da-5862-4195-d4b7-ce401f533371"
      },
      "execution_count": 25,
      "outputs": [
        {
          "output_type": "stream",
          "name": "stdout",
          "text": [
            "python jobs\n"
          ]
        }
      ]
    },
    {
      "cell_type": "code",
      "source": [
        "#555\n",
        "x = 'Python Jobs'\n",
        "x.lower() \n",
        "print(x)\n",
        "\n",
        "c"
      ],
      "metadata": {
        "colab": {
          "base_uri": "https://localhost:8080/"
        },
        "id": "_aBsxb5-w32P",
        "outputId": "1ac3ba1c-bea8-4286-e0bb-2ccdb018ca5a"
      },
      "execution_count": 28,
      "outputs": [
        {
          "output_type": "stream",
          "name": "stdout",
          "text": [
            "Python Jobs\n"
          ]
        }
      ]
    },
    {
      "cell_type": "code",
      "source": [
        ""
      ],
      "metadata": {
        "id": "A8_N7V1-xAGE"
      },
      "execution_count": null,
      "outputs": []
    }
  ]
}