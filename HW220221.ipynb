{
  "nbformat": 4,
  "nbformat_minor": 0,
  "metadata": {
    "colab": {
      "name": "HW220221.ipynb",
      "provenance": [],
      "authorship_tag": "ABX9TyOUKk+BeRo+yM/iJfsf4mvi",
      "include_colab_link": true
    },
    "kernelspec": {
      "name": "python3",
      "display_name": "Python 3"
    },
    "language_info": {
      "name": "python"
    }
  },
  "cells": [
    {
      "cell_type": "markdown",
      "metadata": {
        "id": "view-in-github",
        "colab_type": "text"
      },
      "source": [
        "<a href=\"https://colab.research.google.com/github/mjkh09077/ai/blob/main/HW220221.ipynb\" target=\"_parent\"><img src=\"https://colab.research.google.com/assets/colab-badge.svg\" alt=\"Open In Colab\"/></a>"
      ]
    },
    {
      "cell_type": "code",
      "execution_count": 3,
      "metadata": {
        "colab": {
          "base_uri": "https://localhost:8080/"
        },
        "id": "iuQx9KhDX0PJ",
        "outputId": "bfcd03c0-f8cc-458c-98f7-6807995a02bc"
      },
      "outputs": [
        {
          "output_type": "stream",
          "name": "stdout",
          "text": [
            "Python jobs\n"
          ]
        }
      ],
      "source": [
        "#556\n",
        "x = 'Python Jobs' \n",
        "if x.lower() == 'python jobs':\n",
        "  print('Python jobs')\n",
        "else:\n",
        "  print('python 3 jobs') \n",
        "\n",
        "b"
      ]
    },
    {
      "cell_type": "code",
      "source": [
        "#557\n",
        "x = 'Python Jobs' \n",
        "if x.isupper():\n",
        "  print('Python jobs')\n",
        "else:\n",
        "  print('python 3 jobs') \n",
        "\n",
        "a"
      ],
      "metadata": {
        "colab": {
          "base_uri": "https://localhost:8080/"
        },
        "id": "MvMEjhq2YdMX",
        "outputId": "405f5165-147d-4db9-b1ec-e5ef217949dc"
      },
      "execution_count": 5,
      "outputs": [
        {
          "output_type": "stream",
          "name": "stdout",
          "text": [
            "python 3 jobs\n"
          ]
        }
      ]
    },
    {
      "cell_type": "code",
      "source": [
        "#558\n",
        "x = 'Python Jobs' \n",
        "y = x.upper().lower().upper()\n",
        "print(y)\n",
        "\n",
        "b"
      ],
      "metadata": {
        "colab": {
          "base_uri": "https://localhost:8080/"
        },
        "id": "WpvWpoacYlPX",
        "outputId": "58b576b6-b3b9-4d5e-ae47-afeb941abbf1"
      },
      "execution_count": 6,
      "outputs": [
        {
          "output_type": "stream",
          "name": "stdout",
          "text": [
            "PYTHON JOBS\n"
          ]
        }
      ]
    },
    {
      "cell_type": "code",
      "source": [
        "#559\n",
        "x = 'Python Jobs' \n",
        "y = x.upper().lower().isupper()\n",
        "print(y)\n",
        "\n",
        "c"
      ],
      "metadata": {
        "colab": {
          "base_uri": "https://localhost:8080/"
        },
        "id": "VnWMCatEYuyz",
        "outputId": "ddac4f46-c36a-4546-c256-5be183fa7f5b"
      },
      "execution_count": 7,
      "outputs": [
        {
          "output_type": "stream",
          "name": "stdout",
          "text": [
            "False\n"
          ]
        }
      ]
    },
    {
      "cell_type": "code",
      "source": [
        "#560\n",
        "x = ['Python', 'is', 'interesting'] \n",
        "y = ' '.join(x) \n",
        "print(y)\n",
        "\n",
        "b"
      ],
      "metadata": {
        "colab": {
          "base_uri": "https://localhost:8080/"
        },
        "id": "ql13YqYKY0-T",
        "outputId": "964eeed9-2b89-4513-9980-45e41c455a94"
      },
      "execution_count": 8,
      "outputs": [
        {
          "output_type": "stream",
          "name": "stdout",
          "text": [
            "Python is interesting\n"
          ]
        }
      ]
    },
    {
      "cell_type": "code",
      "source": [
        "#561\n",
        "x = 'Python is interesting' \n",
        "y = x.split() \n",
        "print(y) \n",
        "\n",
        "d"
      ],
      "metadata": {
        "colab": {
          "base_uri": "https://localhost:8080/"
        },
        "id": "tOmgu4iTY65u",
        "outputId": "e997613b-0bb5-470e-95a8-d6d8b61a3577"
      },
      "execution_count": 9,
      "outputs": [
        {
          "output_type": "stream",
          "name": "stdout",
          "text": [
            "['Python', 'is', 'interesting']\n"
          ]
        }
      ]
    },
    {
      "cell_type": "code",
      "source": [
        "#562\n",
        "x = '''Today is a nice day. Let's go for a walk. We'll also go to the park.''' \n",
        "y = x.split('\\n') \n",
        "print(y) \n",
        "\n",
        "a"
      ],
      "metadata": {
        "colab": {
          "base_uri": "https://localhost:8080/"
        },
        "id": "vNvM_iXOY_6k",
        "outputId": "5d99af9a-c5e8-4aea-fc2c-24ff375473ff"
      },
      "execution_count": 10,
      "outputs": [
        {
          "output_type": "stream",
          "name": "stdout",
          "text": [
            "[\"Today is a nice day. Let's go for a walk. We'll also go to the park.\"]\n"
          ]
        }
      ]
    },
    {
      "cell_type": "code",
      "source": [
        "#563\n",
        "x = 'Python 2 and Python 3' \n",
        "print(x.strip('and'))\n",
        "\n",
        "d"
      ],
      "metadata": {
        "colab": {
          "base_uri": "https://localhost:8080/"
        },
        "id": "qns7AfBOZIWa",
        "outputId": "d55c9a95-7c66-476c-d3dc-a44c34ebd6f3"
      },
      "execution_count": 11,
      "outputs": [
        {
          "output_type": "stream",
          "name": "stdout",
          "text": [
            "Python 2 and Python 3\n"
          ]
        }
      ]
    },
    {
      "cell_type": "code",
      "source": [
        "#564\n",
        "x = 'Python 2 and Python 3' \n",
        "print(x.strip('thon 3')) \n",
        "\n",
        "b"
      ],
      "metadata": {
        "colab": {
          "base_uri": "https://localhost:8080/"
        },
        "id": "6pRc2puLZQcx",
        "outputId": "2898552e-ac17-438e-c8c0-804631ca6734"
      },
      "execution_count": 12,
      "outputs": [
        {
          "output_type": "stream",
          "name": "stdout",
          "text": [
            "Python 2 and Py\n"
          ]
        }
      ]
    },
    {
      "cell_type": "code",
      "source": [
        "#565\n",
        "d"
      ],
      "metadata": {
        "id": "ivdPYjvWZX4G"
      },
      "execution_count": null,
      "outputs": []
    },
    {
      "cell_type": "code",
      "source": [
        "#566\n",
        "import re \n",
        "x = re.compile(r'\\d\\d\\d-\\d\\d\\d\\d') \n",
        "y = x.search('The phone number is 444-4444') \n",
        "print(y.group())\n",
        "\n",
        "c"
      ],
      "metadata": {
        "colab": {
          "base_uri": "https://localhost:8080/"
        },
        "id": "f0RkD2YBZgUt",
        "outputId": "236f63eb-5c93-424b-a10b-1a863e413fe9"
      },
      "execution_count": 13,
      "outputs": [
        {
          "output_type": "stream",
          "name": "stdout",
          "text": [
            "444-4444\n"
          ]
        }
      ]
    },
    {
      "cell_type": "code",
      "source": [
        "#567\n",
        "import re \n",
        "x = re.compile(r'(\\d\\d\\d)-(\\d\\d\\d\\d)') \n",
        "y = x.search('The phone number is 444-4444') \n",
        "print(y.group(2)) \n",
        "\n",
        "b"
      ],
      "metadata": {
        "colab": {
          "base_uri": "https://localhost:8080/"
        },
        "id": "jY4z1cNJZpUV",
        "outputId": "653bccb2-7cf4-41e1-c233-899cb1400f1c"
      },
      "execution_count": 14,
      "outputs": [
        {
          "output_type": "stream",
          "name": "stdout",
          "text": [
            "4444\n"
          ]
        }
      ]
    },
    {
      "cell_type": "code",
      "source": [
        "#568\n",
        "import re \n",
        "x = re.compile(r'(\\d\\d\\d)-(\\d\\d\\d\\d)') \n",
        "y = x.search('The phone number is 444-4444') \n",
        "print(y.group(1))\n",
        "\n",
        "d"
      ],
      "metadata": {
        "colab": {
          "base_uri": "https://localhost:8080/"
        },
        "id": "O2lvm6NCZwd2",
        "outputId": "96d1b22e-a02f-4202-e310-8adb853e4047"
      },
      "execution_count": 15,
      "outputs": [
        {
          "output_type": "stream",
          "name": "stdout",
          "text": [
            "444\n"
          ]
        }
      ]
    },
    {
      "cell_type": "code",
      "source": [
        "#569\n",
        "import re \n",
        "x = re.compile(r'(\\d\\d\\d)-(\\d\\d\\d\\d)') \n",
        "y = x.search('The phone number is 444-4444') \n",
        "print(y.group(0))\n",
        "\n",
        "c"
      ],
      "metadata": {
        "colab": {
          "base_uri": "https://localhost:8080/"
        },
        "id": "v-hL5t1aZ2bT",
        "outputId": "ffcb649b-9662-46ae-a1a9-aa9cc59e413e"
      },
      "execution_count": 16,
      "outputs": [
        {
          "output_type": "stream",
          "name": "stdout",
          "text": [
            "444-4444\n"
          ]
        }
      ]
    },
    {
      "cell_type": "code",
      "source": [
        "#570\n",
        "import re \n",
        "x = re.compile(r'(\\d\\d\\d)-(\\d\\d\\d\\d)') \n",
        "y = x.search('The phone number is 444-4444') \n",
        "print(y.groups()) \n",
        "\n",
        "a"
      ],
      "metadata": {
        "colab": {
          "base_uri": "https://localhost:8080/"
        },
        "id": "6UTiq2cZZ9Bg",
        "outputId": "37f0091a-911b-44a3-aa64-f0671e11d330"
      },
      "execution_count": 17,
      "outputs": [
        {
          "output_type": "stream",
          "name": "stdout",
          "text": [
            "('444', '4444')\n"
          ]
        }
      ]
    },
    {
      "cell_type": "code",
      "source": [
        "#571\n",
        "import re \n",
        "x = re.compile(r'(\\(\\d\\d\\d\\))-(\\d\\d\\d\\d)') \n",
        "y = x.search('The phone number is (444)-4444') \n",
        "print(y.group(1))\n",
        "\n",
        "d"
      ],
      "metadata": {
        "colab": {
          "base_uri": "https://localhost:8080/"
        },
        "id": "gyknLAHEaDqa",
        "outputId": "c8fd760f-cfd1-411f-eb18-9ceff0facd3c"
      },
      "execution_count": 18,
      "outputs": [
        {
          "output_type": "stream",
          "name": "stdout",
          "text": [
            "(444)\n"
          ]
        }
      ]
    },
    {
      "cell_type": "code",
      "source": [
        "#572\n",
        "import re \n",
        "x = re.compile(r'Python 2|Python 3') \n",
        "y = x.search('Python 3 MCQ') \n",
        "print(y.group())\n",
        "\n",
        "c"
      ],
      "metadata": {
        "colab": {
          "base_uri": "https://localhost:8080/"
        },
        "id": "mUW1_sMHaLsZ",
        "outputId": "bcd21c07-ec49-489e-e914-394079c28786"
      },
      "execution_count": 19,
      "outputs": [
        {
          "output_type": "stream",
          "name": "stdout",
          "text": [
            "Python 3\n"
          ]
        }
      ]
    },
    {
      "cell_type": "code",
      "source": [
        "#573\n",
        "import re \n",
        "x = re.compile(r'Python 2|Python 3') \n",
        "y = x.search('Python 2.7') \n",
        "print(y.group()) \n",
        "\n",
        "b"
      ],
      "metadata": {
        "colab": {
          "base_uri": "https://localhost:8080/"
        },
        "id": "o_Ekap8ZaV9a",
        "outputId": "1497f34c-3ae5-4822-e7b4-f9c7e664ef5a"
      },
      "execution_count": 20,
      "outputs": [
        {
          "output_type": "stream",
          "name": "stdout",
          "text": [
            "Python 2\n"
          ]
        }
      ]
    },
    {
      "cell_type": "code",
      "source": [
        "#574\n",
        "import re \n",
        "x = re.compile(r'day') \n",
        "y = x.search('Today is a nice day and a Sunday') \n",
        "print(y.group()) \n",
        "\n",
        "a"
      ],
      "metadata": {
        "colab": {
          "base_uri": "https://localhost:8080/"
        },
        "id": "-9YQPvJ3ade8",
        "outputId": "db155c58-caf0-4a0a-dc93-8fc5fa066cfd"
      },
      "execution_count": 21,
      "outputs": [
        {
          "output_type": "stream",
          "name": "stdout",
          "text": [
            "day\n"
          ]
        }
      ]
    },
    {
      "cell_type": "code",
      "source": [
        "#575\n",
        "import re \n",
        "x = re.compile(r'(Sun)?day') \n",
        "y = x.search('Today is a nice day and a Sunday') \n",
        "print(y.group())\n",
        "\n",
        "a"
      ],
      "metadata": {
        "colab": {
          "base_uri": "https://localhost:8080/"
        },
        "id": "OP9A0fuAanhT",
        "outputId": "89bf0a21-b8f7-4a28-894f-7a35e684b8c2"
      },
      "execution_count": 22,
      "outputs": [
        {
          "output_type": "stream",
          "name": "stdout",
          "text": [
            "day\n"
          ]
        }
      ]
    },
    {
      "cell_type": "code",
      "source": [
        "names = \"이유덕,이재영,권종표,이재영,박민호,강상희,이재영,김지완,최승혁,이성연,박영서,박민호,전경헌,송정환,김재성,이유덕,전경헌\".split(\",\")\n",
        "\n",
        "\n",
        "print(len('이재영'))\n"
      ],
      "metadata": {
        "colab": {
          "base_uri": "https://localhost:8080/"
        },
        "id": "TRf6L8__azIs",
        "outputId": "662954c1-4bab-4e57-f528-d40099fc1c1e"
      },
      "execution_count": 23,
      "outputs": [
        {
          "output_type": "stream",
          "name": "stdout",
          "text": [
            "3\n"
          ]
        }
      ]
    }
  ]
}