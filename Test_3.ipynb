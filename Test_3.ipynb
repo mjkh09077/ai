{
  "nbformat": 4,
  "nbformat_minor": 0,
  "metadata": {
    "colab": {
      "name": "Test_3.ipynb",
      "provenance": [],
      "authorship_tag": "ABX9TyNCMHCDir7XPSbOh0anCKLr",
      "include_colab_link": true
    },
    "kernelspec": {
      "name": "python3",
      "display_name": "Python 3"
    },
    "language_info": {
      "name": "python"
    }
  },
  "cells": [
    {
      "cell_type": "markdown",
      "metadata": {
        "id": "view-in-github",
        "colab_type": "text"
      },
      "source": [
        "<a href=\"https://colab.research.google.com/github/mjkh09077/ai/blob/main/Test_3.ipynb\" target=\"_parent\"><img src=\"https://colab.research.google.com/assets/colab-badge.svg\" alt=\"Open In Colab\"/></a>"
      ]
    },
    {
      "cell_type": "code",
      "execution_count": 9,
      "metadata": {
        "colab": {
          "base_uri": "https://localhost:8080/"
        },
        "id": "JVbdLusmWvrX",
        "outputId": "dae3730f-b08c-49f1-eb3a-d45845b02c1c"
      },
      "outputs": [
        {
          "output_type": "stream",
          "name": "stdout",
          "text": [
            "enter a version1 >>>1.01\n",
            "enter a version2 >>>1.001\n",
            "output : 0\n"
          ]
        }
      ],
      "source": [
        "v1 = float(input('enter a version1 >>>'))      #version 1 입력(소수점이 있으므로 실수로 입력 받음)\n",
        "v2 = float(input('enter a version2 >>>'))      #version 2 입력\n",
        "\n",
        "if int(v1) > int(v2):                          #입력받은 v1,2를 정수로 변화(int)\n",
        "  print('output : 1')                          #v1이 크면 1, v2가 크면 -1, 이외는 0으로 출력\n",
        "elif int(v1) < int(v2):\n",
        "  print('output : -1')\n",
        "else:\n",
        "  print('output : 0')"
      ]
    }
  ]
}