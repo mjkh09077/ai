{
  "nbformat": 4,
  "nbformat_minor": 0,
  "metadata": {
    "colab": {
      "name": "HW6_220209김민희.ipynb",
      "provenance": [],
      "authorship_tag": "ABX9TyNIAFxQ14mAAnasDkBrcWxd",
      "include_colab_link": true
    },
    "kernelspec": {
      "name": "python3",
      "display_name": "Python 3"
    },
    "language_info": {
      "name": "python"
    }
  },
  "cells": [
    {
      "cell_type": "markdown",
      "metadata": {
        "id": "view-in-github",
        "colab_type": "text"
      },
      "source": [
        "<a href=\"https://colab.research.google.com/github/mjkh09077/ai/blob/main/HW6_220209%EA%B9%80%EB%AF%BC%ED%9D%AC.ipynb\" target=\"_parent\"><img src=\"https://colab.research.google.com/assets/colab-badge.svg\" alt=\"Open In Colab\"/></a>"
      ]
    },
    {
      "cell_type": "code",
      "execution_count": 2,
      "metadata": {
        "colab": {
          "base_uri": "https://localhost:8080/"
        },
        "id": "Ryvtr1VRhIll",
        "outputId": "c5155a20-7e32-403b-9818-25f4b578ded5"
      },
      "outputs": [
        {
          "output_type": "stream",
          "name": "stdout",
          "text": [
            "No\n"
          ]
        }
      ],
      "source": [
        "#436#437\n",
        "x = '' \n",
        "\n",
        "if bool(x):\n",
        "  print('Yes')\n",
        "else: print('No') \n",
        "\n",
        "c"
      ]
    },
    {
      "cell_type": "code",
      "source": [
        "#438\n",
        "x = [] \n",
        "if bool(x):\n",
        "  print('Yes')\n",
        "else: print('No') \n",
        "\n",
        "c"
      ],
      "metadata": {
        "colab": {
          "base_uri": "https://localhost:8080/"
        },
        "id": "E1VFxdCphhrB",
        "outputId": "b55c825a-ba5c-40ca-cf52-d804fc0ee394"
      },
      "execution_count": 3,
      "outputs": [
        {
          "output_type": "stream",
          "name": "stdout",
          "text": [
            "No\n"
          ]
        }
      ]
    },
    {
      "cell_type": "code",
      "source": [
        "#439\n",
        "x = [1, 2, 3] \n",
        "if bool(x):\n",
        "  print('Yes')\n",
        "else: print('No') \n",
        "\n",
        "b"
      ],
      "metadata": {
        "colab": {
          "base_uri": "https://localhost:8080/"
        },
        "id": "Zlcfw4NRhynD",
        "outputId": "c857d306-59b1-42e8-b02c-31b738893d27"
      },
      "execution_count": 4,
      "outputs": [
        {
          "output_type": "stream",
          "name": "stdout",
          "text": [
            "Yes\n"
          ]
        }
      ]
    },
    {
      "cell_type": "code",
      "source": [
        "#440\n",
        "x = '' \n",
        "if not bool(x):\n",
        "  print('Yes')\n",
        "else: print('No') \n",
        "\n",
        "b"
      ],
      "metadata": {
        "colab": {
          "base_uri": "https://localhost:8080/"
        },
        "id": "84YBXp2Uh6fD",
        "outputId": "5f55fc36-b042-49b9-d1e7-4a7f17755ef4"
      },
      "execution_count": 5,
      "outputs": [
        {
          "output_type": "stream",
          "name": "stdout",
          "text": [
            "Yes\n"
          ]
        }
      ]
    },
    {
      "cell_type": "code",
      "source": [
        "#441\n",
        "x = 'print(\"Python\")' \n",
        "eval(x)\n",
        "\n",
        "c"
      ],
      "metadata": {
        "colab": {
          "base_uri": "https://localhost:8080/"
        },
        "id": "E_dcc-MFiJ6K",
        "outputId": "15290530-7df6-4498-f6bd-75a7048947ed"
      },
      "execution_count": 7,
      "outputs": [
        {
          "output_type": "stream",
          "name": "stdout",
          "text": [
            "Python\n"
          ]
        }
      ]
    },
    {
      "cell_type": "code",
      "source": [
        "#442\n",
        "x = input(\"Enter an expression: \")\n",
        "print(eval(x)) \n",
        "\n",
        "c"
      ],
      "metadata": {
        "colab": {
          "base_uri": "https://localhost:8080/"
        },
        "id": "XWn1IEBtiTZO",
        "outputId": "5de5a36d-ba65-45bb-c229-891879c27638"
      },
      "execution_count": 8,
      "outputs": [
        {
          "output_type": "stream",
          "name": "stdout",
          "text": [
            "Enter an expression: 45*2\n",
            "90\n"
          ]
        }
      ]
    },
    {
      "cell_type": "code",
      "source": [
        "#443\n",
        "x = '''\n",
        "print(\"Python 3\", end='') \n",
        "print(\" is Good\")''' \n",
        "exec(x)\n",
        "\n",
        "a"
      ],
      "metadata": {
        "colab": {
          "base_uri": "https://localhost:8080/"
        },
        "id": "nJo3vm0Kib5k",
        "outputId": "a612e805-3296-4dd6-e7f9-96c0d0770698"
      },
      "execution_count": 9,
      "outputs": [
        {
          "output_type": "stream",
          "name": "stdout",
          "text": [
            "Python 3 is Good\n"
          ]
        }
      ]
    },
    {
      "cell_type": "code",
      "source": [
        "#444\n",
        "a = ['a', 'b', 'c', 'A', 'B'] \n",
        "print(max(a)) \n",
        "\n",
        "d"
      ],
      "metadata": {
        "colab": {
          "base_uri": "https://localhost:8080/"
        },
        "id": "L5YvC8wnip4m",
        "outputId": "4d0e547d-ee2f-4368-d653-14390c0c8f35"
      },
      "execution_count": 10,
      "outputs": [
        {
          "output_type": "stream",
          "name": "stdout",
          "text": [
            "c\n"
          ]
        }
      ]
    },
    {
      "cell_type": "code",
      "source": [
        "#445\n",
        "a = ['a', 'b', 'c', 'A', 'B'] \n",
        "print(min(a))\n",
        "\n",
        "b"
      ],
      "metadata": {
        "colab": {
          "base_uri": "https://localhost:8080/"
        },
        "id": "EXZHz1oqi4p2",
        "outputId": "dad64cc2-174b-40c3-8e38-690795e38cc4"
      },
      "execution_count": 11,
      "outputs": [
        {
          "output_type": "stream",
          "name": "stdout",
          "text": [
            "A\n"
          ]
        }
      ]
    },
    {
      "cell_type": "code",
      "source": [
        "#446\n",
        "a = ['a', 'b', 'c', '1', '2', 'A', 'B'] \n",
        "print(max(a))\n",
        "\n",
        "d"
      ],
      "metadata": {
        "colab": {
          "base_uri": "https://localhost:8080/"
        },
        "id": "PmeKh1D6i-Pg",
        "outputId": "57beced2-6bf5-497a-ff1d-361b02c7b85d"
      },
      "execution_count": 12,
      "outputs": [
        {
          "output_type": "stream",
          "name": "stdout",
          "text": [
            "c\n"
          ]
        }
      ]
    },
    {
      "cell_type": "code",
      "source": [
        "#447\n",
        "a = ['a', 'b', 'c', '1', '2', 'A', 'B'] \n",
        "print(min(a))\n",
        "\n",
        "c"
      ],
      "metadata": {
        "colab": {
          "base_uri": "https://localhost:8080/"
        },
        "id": "AfhJjivYjD34",
        "outputId": "8e77c9aa-bd39-41de-affb-3a1c37be012f"
      },
      "execution_count": 14,
      "outputs": [
        {
          "output_type": "stream",
          "name": "stdout",
          "text": [
            "1\n"
          ]
        }
      ]
    },
    {
      "cell_type": "code",
      "source": [
        "#448\n",
        "a = [1, 2, 3] \n",
        "print(sum(a)) \n",
        "\n",
        "d"
      ],
      "metadata": {
        "colab": {
          "base_uri": "https://localhost:8080/"
        },
        "id": "nX8zaRSMjLIL",
        "outputId": "d7d09372-86fe-4374-8f85-dc91a82dfaca"
      },
      "execution_count": 15,
      "outputs": [
        {
          "output_type": "stream",
          "name": "stdout",
          "text": [
            "6\n"
          ]
        }
      ]
    },
    {
      "cell_type": "code",
      "source": [
        "#449\n",
        "a = list(range(0,10,3)) \n",
        "print(sum(a)) \n",
        "\n",
        "c"
      ],
      "metadata": {
        "colab": {
          "base_uri": "https://localhost:8080/"
        },
        "id": "WakiElyFjUE9",
        "outputId": "15228bb3-414a-4d9e-caa9-546c41f1a382"
      },
      "execution_count": 16,
      "outputs": [
        {
          "output_type": "stream",
          "name": "stdout",
          "text": [
            "18\n"
          ]
        }
      ]
    },
    {
      "cell_type": "code",
      "source": [
        "#450\n",
        "a = list(range(10,-10,3)) \n",
        "print(sum(a))\n",
        "\n",
        "b"
      ],
      "metadata": {
        "colab": {
          "base_uri": "https://localhost:8080/"
        },
        "id": "L7SaSZLkj24S",
        "outputId": "fbe406a8-197c-4032-cb95-b2f2a17ee9e5"
      },
      "execution_count": 17,
      "outputs": [
        {
          "output_type": "stream",
          "name": "stdout",
          "text": [
            "0\n"
          ]
        }
      ]
    },
    {
      "cell_type": "code",
      "source": [
        "#451\n",
        "a = list(range(-10,5,2)) \n",
        "print(sum(a))\n",
        "\n",
        "a"
      ],
      "metadata": {
        "colab": {
          "base_uri": "https://localhost:8080/"
        },
        "id": "m4S8xj2ykwv2",
        "outputId": "5c7986f2-e071-4e15-9bb9-b0aa73d8f3b1"
      },
      "execution_count": 18,
      "outputs": [
        {
          "output_type": "stream",
          "name": "stdout",
          "text": [
            "-24\n"
          ]
        }
      ]
    },
    {
      "cell_type": "code",
      "source": [
        "#452\n",
        "x = [5, 4, 3, 2, 1] \n",
        "y = x.copy() \n",
        "x[0] = 6 \n",
        "\n",
        "print(y) \n",
        "\n",
        "c"
      ],
      "metadata": {
        "colab": {
          "base_uri": "https://localhost:8080/"
        },
        "id": "FmdpKD05lBtq",
        "outputId": "8a01eedb-05f0-455a-8264-1fa403e28d4d"
      },
      "execution_count": 19,
      "outputs": [
        {
          "output_type": "stream",
          "name": "stdout",
          "text": [
            "[5, 4, 3, 2, 1]\n"
          ]
        }
      ]
    },
    {
      "cell_type": "code",
      "source": [
        "#453\n",
        "import copy \n",
        "x = [5, 4, 3, 2, 1] \n",
        "y = copy.copy(x) \n",
        "x.append(6) \n",
        "\n",
        "print(y[0]) \n",
        "\n",
        "d"
      ],
      "metadata": {
        "colab": {
          "base_uri": "https://localhost:8080/"
        },
        "id": "ZS__SfV3lOg0",
        "outputId": "28ca3e9f-dc2a-4983-8abd-ccb1c173ae21"
      },
      "execution_count": 22,
      "outputs": [
        {
          "output_type": "stream",
          "name": "stdout",
          "text": [
            "5\n"
          ]
        }
      ]
    },
    {
      "cell_type": "code",
      "source": [
        "#454\n",
        "import keyword \n",
        "print(keyword.iskeyword('IS')) \n",
        "\n",
        "d"
      ],
      "metadata": {
        "colab": {
          "base_uri": "https://localhost:8080/"
        },
        "id": "5vVokXy8lrCe",
        "outputId": "29c028d1-2eec-49ee-839a-c2fc14a99e80"
      },
      "execution_count": 24,
      "outputs": [
        {
          "output_type": "stream",
          "name": "stdout",
          "text": [
            "False\n"
          ]
        }
      ]
    },
    {
      "cell_type": "code",
      "source": [
        "#455\n",
        "import keyword \n",
        "print(keyword.iskeyword('for')) \n",
        "\n",
        "a"
      ],
      "metadata": {
        "colab": {
          "base_uri": "https://localhost:8080/"
        },
        "id": "TSl36ICDlyoN",
        "outputId": "20ccbbd8-fb57-43c6-8690-82794b66ab1c"
      },
      "execution_count": 26,
      "outputs": [
        {
          "output_type": "stream",
          "name": "stdout",
          "text": [
            "True\n"
          ]
        }
      ]
    },
    {
      "cell_type": "code",
      "source": [
        "#algorithm\n",
        "count = []\n",
        "for x in (range(1,10001)):         #1이상 10001미만 범위에 있는 x\n",
        "  for i in str(x):                 \n",
        "    count.append(int(i))           #x에 i가 있을 경우 count리스트에 추가\n",
        "\n",
        "print(count.count(8))              #8이 포함된 count리스트에서 8갯수 계산"
      ],
      "metadata": {
        "colab": {
          "base_uri": "https://localhost:8080/"
        },
        "id": "xY2NgiZYl4X8",
        "outputId": "1f5b4da9-d2e4-481e-b15f-d3c02af832ea"
      },
      "execution_count": 31,
      "outputs": [
        {
          "output_type": "stream",
          "name": "stdout",
          "text": [
            "4000\n"
          ]
        }
      ]
    }
  ]
}