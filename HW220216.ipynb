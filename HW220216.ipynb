{
  "nbformat": 4,
  "nbformat_minor": 0,
  "metadata": {
    "colab": {
      "name": "HW220216.ipynb",
      "provenance": [],
      "authorship_tag": "ABX9TyOVxOJ5qedBsU8lwRHbKtAB",
      "include_colab_link": true
    },
    "kernelspec": {
      "name": "python3",
      "display_name": "Python 3"
    },
    "language_info": {
      "name": "python"
    }
  },
  "cells": [
    {
      "cell_type": "markdown",
      "metadata": {
        "id": "view-in-github",
        "colab_type": "text"
      },
      "source": [
        "<a href=\"https://colab.research.google.com/github/mjkh09077/ai/blob/main/HW220216.ipynb\" target=\"_parent\"><img src=\"https://colab.research.google.com/assets/colab-badge.svg\" alt=\"Open In Colab\"/></a>"
      ]
    },
    {
      "cell_type": "code",
      "execution_count": 3,
      "metadata": {
        "colab": {
          "base_uri": "https://localhost:8080/"
        },
        "id": "fUqNae42lZp2",
        "outputId": "4e4fd4f5-4b7b-4eb9-e9e4-ab64ef95d619"
      },
      "outputs": [
        {
          "output_type": "stream",
          "name": "stdout",
          "text": [
            "<class 'tuple'>\n"
          ]
        }
      ],
      "source": [
        "#516\n",
        "x = [1, 2, 3, 4] \n",
        "y = tuple(x)\n",
        "print(type(y))\n",
        "\n",
        "c"
      ]
    },
    {
      "cell_type": "code",
      "source": [
        "#517\n",
        "x = [1, 2, 3, 4] \n",
        "y = tuple(x) \n",
        "z = list(y) \n",
        "print(type(z))\n",
        "\n",
        "d"
      ],
      "metadata": {
        "colab": {
          "base_uri": "https://localhost:8080/"
        },
        "id": "ieMghepClrgX",
        "outputId": "81ecac6b-bf16-4282-c938-a8b4da658c63"
      },
      "execution_count": 4,
      "outputs": [
        {
          "output_type": "stream",
          "name": "stdout",
          "text": [
            "<class 'list'>\n"
          ]
        }
      ]
    },
    {
      "cell_type": "code",
      "source": [
        "#518\n",
        "x = 'Python' \n",
        "y = list(x) \n",
        "print(type(y))\n",
        "\n",
        "d"
      ],
      "metadata": {
        "colab": {
          "base_uri": "https://localhost:8080/"
        },
        "id": "i_jHLCevlyyn",
        "outputId": "f4443140-18a8-4035-dfbb-bc2f31754bb4"
      },
      "execution_count": 5,
      "outputs": [
        {
          "output_type": "stream",
          "name": "stdout",
          "text": [
            "<class 'list'>\n"
          ]
        }
      ]
    },
    {
      "cell_type": "code",
      "source": [
        "#519\n",
        "x = 'Python' \n",
        "y = tuple(x) \n",
        "print(type(y)) \n",
        "\n",
        "c"
      ],
      "metadata": {
        "colab": {
          "base_uri": "https://localhost:8080/"
        },
        "id": "r7nu0I82l7Iv",
        "outputId": "d5b22934-d061-4a4a-f50f-8b05175ae692"
      },
      "execution_count": 6,
      "outputs": [
        {
          "output_type": "stream",
          "name": "stdout",
          "text": [
            "<class 'tuple'>\n"
          ]
        }
      ]
    },
    {
      "cell_type": "code",
      "source": [
        "#520\n",
        "x = ('Python') \n",
        "print(x)\n",
        "\n",
        "b"
      ],
      "metadata": {
        "colab": {
          "base_uri": "https://localhost:8080/"
        },
        "id": "R1H4TiM2mACd",
        "outputId": "a8603020-1007-41e5-82de-1692fe0ab367"
      },
      "execution_count": 7,
      "outputs": [
        {
          "output_type": "stream",
          "name": "stdout",
          "text": [
            "Python\n"
          ]
        }
      ]
    },
    {
      "cell_type": "code",
      "source": [
        "#521\n",
        "x = ('Python',) \n",
        "print(x)\n",
        "\n",
        "a"
      ],
      "metadata": {
        "colab": {
          "base_uri": "https://localhost:8080/"
        },
        "id": "OyAR8qbjmFbz",
        "outputId": "77c53340-9114-453d-bd15-92cc5e72bbba"
      },
      "execution_count": 8,
      "outputs": [
        {
          "output_type": "stream",
          "name": "stdout",
          "text": [
            "('Python',)\n"
          ]
        }
      ]
    },
    {
      "cell_type": "code",
      "source": [
        "#522\n",
        "x = [0, 2, 4, 6] \n",
        "print(tuple(x)) \n",
        "\n",
        "b"
      ],
      "metadata": {
        "colab": {
          "base_uri": "https://localhost:8080/"
        },
        "id": "sO4tz7ejmKzt",
        "outputId": "bd521c8d-6aa8-4606-8c95-e688af06bc16"
      },
      "execution_count": 9,
      "outputs": [
        {
          "output_type": "stream",
          "name": "stdout",
          "text": [
            "(0, 2, 4, 6)\n"
          ]
        }
      ]
    },
    {
      "cell_type": "code",
      "source": [
        "#523\n",
        "x = (0, 2, 4, 6) \n",
        "print(list(x))\n",
        "\n",
        "a"
      ],
      "metadata": {
        "colab": {
          "base_uri": "https://localhost:8080/"
        },
        "id": "tfJCwkmvmQ8s",
        "outputId": "c4d30397-c96d-4a68-f123-80d0c7fa81ec"
      },
      "execution_count": 10,
      "outputs": [
        {
          "output_type": "stream",
          "name": "stdout",
          "text": [
            "[0, 2, 4, 6]\n"
          ]
        }
      ]
    },
    {
      "cell_type": "code",
      "source": [
        "#524\n",
        "x = 'Python' \n",
        "print(list(x))\n",
        "\n",
        "c"
      ],
      "metadata": {
        "colab": {
          "base_uri": "https://localhost:8080/"
        },
        "id": "RtcW36aumWdJ",
        "outputId": "51fffbdd-7e69-4c0f-aebc-8a98f277d67e"
      },
      "execution_count": 11,
      "outputs": [
        {
          "output_type": "stream",
          "name": "stdout",
          "text": [
            "['P', 'y', 't', 'h', 'o', 'n']\n"
          ]
        }
      ]
    },
    {
      "cell_type": "code",
      "source": [
        "#525\n",
        "x = 'Python' \n",
        "print(tuple(x))\n",
        "\n",
        "a"
      ],
      "metadata": {
        "colab": {
          "base_uri": "https://localhost:8080/"
        },
        "id": "Fm9F5fedmcIu",
        "outputId": "2a127845-575b-4c75-fbf8-56c8ab8b2294"
      },
      "execution_count": 12,
      "outputs": [
        {
          "output_type": "stream",
          "name": "stdout",
          "text": [
            "('P', 'y', 't', 'h', 'o', 'n')\n"
          ]
        }
      ]
    },
    {
      "cell_type": "code",
      "source": [
        "#526\n",
        "x = [4, 5, 7, 8, 9] \n",
        "y = x \n",
        "y[1] = 6 \n",
        "print(y)\n",
        "\n",
        "c"
      ],
      "metadata": {
        "colab": {
          "base_uri": "https://localhost:8080/"
        },
        "id": "W-CbDTKWmgWa",
        "outputId": "faeb19ef-f141-4348-b4bc-a89a60344b75"
      },
      "execution_count": 13,
      "outputs": [
        {
          "output_type": "stream",
          "name": "stdout",
          "text": [
            "[4, 6, 7, 8, 9]\n"
          ]
        }
      ]
    },
    {
      "cell_type": "code",
      "source": [
        "#527\n",
        "x = [4, 5, 7, 8, 9] \n",
        "y = x \n",
        "y[1] = 6 \n",
        "print(x)\n",
        "\n",
        "c"
      ],
      "metadata": {
        "colab": {
          "base_uri": "https://localhost:8080/"
        },
        "id": "F6sFJDYUmn0m",
        "outputId": "c44e0b98-0e2c-4f60-c1dc-ca175a7a97b7"
      },
      "execution_count": 14,
      "outputs": [
        {
          "output_type": "stream",
          "name": "stdout",
          "text": [
            "[4, 6, 7, 8, 9]\n"
          ]
        }
      ]
    },
    {
      "cell_type": "code",
      "source": [
        "#528\n",
        "def abc(z):\n",
        "  z.append(44)\n",
        "  x = [7, 8, 9]\n",
        "  abc(x)\n",
        "print(x) \n",
        "\n",
        "b"
      ],
      "metadata": {
        "colab": {
          "base_uri": "https://localhost:8080/"
        },
        "id": "vY7qvxmnmwzm",
        "outputId": "2b6870f1-0084-4ae7-e1e2-77c7580b74c8"
      },
      "execution_count": 19,
      "outputs": [
        {
          "output_type": "stream",
          "name": "stdout",
          "text": [
            "[4, 6, 7, 8, 9]\n"
          ]
        }
      ]
    },
    {
      "cell_type": "code",
      "source": [
        "#529\n",
        "import copy\n",
        "x = [5, 4, 3, 2, 1] \n",
        "y = copy.copy(x) \n",
        "x.append(6) \n",
        "print(y[-1]) \n",
        "\n",
        "d"
      ],
      "metadata": {
        "colab": {
          "base_uri": "https://localhost:8080/"
        },
        "id": "80Qj3QvDnTDI",
        "outputId": "dcb251ab-fbfc-44ab-9b5c-1dbf6ffffdb4"
      },
      "execution_count": 20,
      "outputs": [
        {
          "output_type": "stream",
          "name": "stdout",
          "text": [
            "1\n"
          ]
        }
      ]
    },
    {
      "cell_type": "code",
      "source": [
        "#530\n",
        "import copy \n",
        "x = [5, 4, 3, 2, 1] \n",
        "y = copy.copy(x) \n",
        "x[2] = 6 \n",
        "print(y[2])\n",
        "\n",
        "a"
      ],
      "metadata": {
        "colab": {
          "base_uri": "https://localhost:8080/"
        },
        "id": "MeCK1JDBnbaV",
        "outputId": "14548471-45fd-4cae-fcc7-759185e653de"
      },
      "execution_count": 21,
      "outputs": [
        {
          "output_type": "stream",
          "name": "stdout",
          "text": [
            "3\n"
          ]
        }
      ]
    },
    {
      "cell_type": "code",
      "source": [
        "#531\n",
        "import copy \n",
        "x = [5, 4, 3, 2, 1] \n",
        "y = [7, 8, 9] \n",
        "z = [x, y] \n",
        "a = copy.copy(z) \n",
        "x[2] = 6 \n",
        "print(a)\n",
        "\n",
        "b"
      ],
      "metadata": {
        "colab": {
          "base_uri": "https://localhost:8080/"
        },
        "id": "pIYSO2dFng-3",
        "outputId": "9ab46916-6133-4ab5-e576-019954b16466"
      },
      "execution_count": 22,
      "outputs": [
        {
          "output_type": "stream",
          "name": "stdout",
          "text": [
            "[[5, 4, 6, 2, 1], [7, 8, 9]]\n"
          ]
        }
      ]
    },
    {
      "cell_type": "code",
      "source": [
        "#532\n",
        "import copy \n",
        "x = [5, 4, 3, 2, 1] \n",
        "y = [7, 8, 9] \n",
        "z = [x, y] \n",
        "a = copy.deepcopy(z) \n",
        "x[2] = 6 \n",
        "print(a)\n",
        "\n",
        "a"
      ],
      "metadata": {
        "colab": {
          "base_uri": "https://localhost:8080/"
        },
        "id": "fsrmSlTAnhEL",
        "outputId": "2b425fe6-dcdb-4b07-bd37-b713a17a557d"
      },
      "execution_count": 23,
      "outputs": [
        {
          "output_type": "stream",
          "name": "stdout",
          "text": [
            "[[5, 4, 3, 2, 1], [7, 8, 9]]\n"
          ]
        }
      ]
    },
    {
      "cell_type": "code",
      "source": [
        "#533\n",
        "x = {'day':'Sunday', 'week':10} \n",
        "print(x['year']) \n",
        "\n",
        "b"
      ],
      "metadata": {
        "colab": {
          "base_uri": "https://localhost:8080/",
          "height": 211
        },
        "id": "p4xU7rWWnzep",
        "outputId": "22754a98-21ee-4f29-a7a8-696364d59c9e"
      },
      "execution_count": 25,
      "outputs": [
        {
          "output_type": "error",
          "ename": "KeyError",
          "evalue": "ignored",
          "traceback": [
            "\u001b[0;31m---------------------------------------------------------------------------\u001b[0m",
            "\u001b[0;31mKeyError\u001b[0m                                  Traceback (most recent call last)",
            "\u001b[0;32m<ipython-input-25-72483c13dea4>\u001b[0m in \u001b[0;36m<module>\u001b[0;34m()\u001b[0m\n\u001b[1;32m      1\u001b[0m \u001b[0;31m#533\u001b[0m\u001b[0;34m\u001b[0m\u001b[0;34m\u001b[0m\u001b[0;34m\u001b[0m\u001b[0m\n\u001b[1;32m      2\u001b[0m \u001b[0mx\u001b[0m \u001b[0;34m=\u001b[0m \u001b[0;34m{\u001b[0m\u001b[0;34m'day'\u001b[0m\u001b[0;34m:\u001b[0m\u001b[0;34m'Sunday'\u001b[0m\u001b[0;34m,\u001b[0m \u001b[0;34m'week'\u001b[0m\u001b[0;34m:\u001b[0m\u001b[0;36m10\u001b[0m\u001b[0;34m}\u001b[0m\u001b[0;34m\u001b[0m\u001b[0;34m\u001b[0m\u001b[0m\n\u001b[0;32m----> 3\u001b[0;31m \u001b[0mprint\u001b[0m\u001b[0;34m(\u001b[0m\u001b[0mx\u001b[0m\u001b[0;34m[\u001b[0m\u001b[0;34m'year'\u001b[0m\u001b[0;34m]\u001b[0m\u001b[0;34m)\u001b[0m\u001b[0;34m\u001b[0m\u001b[0;34m\u001b[0m\u001b[0m\n\u001b[0m",
            "\u001b[0;31mKeyError\u001b[0m: 'year'"
          ]
        }
      ]
    },
    {
      "cell_type": "code",
      "source": [
        "#534\n",
        "x = {'day':'Sunday', 'week':10} \n",
        "for i in x.values():\n",
        "  print(i, end=' ')\n",
        "\n",
        "a"
      ],
      "metadata": {
        "colab": {
          "base_uri": "https://localhost:8080/"
        },
        "id": "z7pziXnqn7he",
        "outputId": "b5e5d50c-4c22-487c-f9c7-376e02e132ba"
      },
      "execution_count": 26,
      "outputs": [
        {
          "output_type": "stream",
          "name": "stdout",
          "text": [
            "Sunday 10 "
          ]
        }
      ]
    },
    {
      "cell_type": "code",
      "source": [
        "#535\n",
        "x = {'day':'Sunday', 'week':10} \n",
        "for i in x: \n",
        "  print(i, end=' ')\n",
        "\n",
        "b"
      ],
      "metadata": {
        "colab": {
          "base_uri": "https://localhost:8080/"
        },
        "id": "EG5VmLSdoBRQ",
        "outputId": "89f86517-4c07-4c3d-dc5f-75230e88ea08"
      },
      "execution_count": 27,
      "outputs": [
        {
          "output_type": "stream",
          "name": "stdout",
          "text": [
            "day week "
          ]
        }
      ]
    },
    {
      "cell_type": "code",
      "source": [
        ""
      ],
      "metadata": {
        "id": "11Cajw_0oHC_"
      },
      "execution_count": null,
      "outputs": []
    }
  ]
}