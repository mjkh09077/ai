{
  "nbformat": 4,
  "nbformat_minor": 0,
  "metadata": {
    "colab": {
      "name": "220217.ipynb",
      "provenance": [],
      "authorship_tag": "ABX9TyNyfuUDG/wkapLfE2t3cE2y",
      "include_colab_link": true
    },
    "kernelspec": {
      "name": "python3",
      "display_name": "Python 3"
    },
    "language_info": {
      "name": "python"
    }
  },
  "cells": [
    {
      "cell_type": "markdown",
      "metadata": {
        "id": "view-in-github",
        "colab_type": "text"
      },
      "source": [
        "<a href=\"https://colab.research.google.com/github/mjkh09077/ai/blob/main/220217.ipynb\" target=\"_parent\"><img src=\"https://colab.research.google.com/assets/colab-badge.svg\" alt=\"Open In Colab\"/></a>"
      ]
    },
    {
      "cell_type": "code",
      "execution_count": 4,
      "metadata": {
        "colab": {
          "base_uri": "https://localhost:8080/"
        },
        "id": "ZZFa6Wc8BYj0",
        "outputId": "8a2310cc-d79e-4ed1-c216-32ea8bef8514"
      },
      "outputs": [
        {
          "output_type": "stream",
          "name": "stdout",
          "text": [
            "enter number 1 >>> 2\n",
            "enter number 2 >>> 3\n",
            "yes or noy\n",
            "5\n"
          ]
        }
      ],
      "source": [
        "a = int(input('enter number 1 >>> '))\n",
        "b = int(input('enter number 2 >>> '))\n",
        "ans = input('yes or no >>> ')\n",
        "\n",
        "while ans == 'yes':\n",
        "  c = int(input('enter number 3 >>> ')) \n",
        "  print(a+b+c)\n",
        "else:\n",
        "  print(a+b)"
      ]
    },
    {
      "cell_type": "code",
      "source": [
        "count = 0\n",
        "again = 'y'\n",
        "\n",
        "while again == 'y':\n",
        "  name = input('Enter another name : ')\n",
        "  print(f'{name} has now been invited')\n",
        "  count += 1\n",
        "  again = input('Do you want to invite somebody else? (y/n)')\n",
        "\n",
        "print(f'you have {count} people coming to your party')"
      ],
      "metadata": {
        "colab": {
          "base_uri": "https://localhost:8080/"
        },
        "id": "lzGs0V5L8rf6",
        "outputId": "b023b114-abc4-4d77-a873-9b5507c871ab"
      },
      "execution_count": 11,
      "outputs": [
        {
          "output_type": "stream",
          "name": "stdout",
          "text": [
            "Enter another name : kim\n",
            "kim has now been invited\n",
            "Do you want to invite somebody else? (y/n)y\n",
            "Enter another name : d\n",
            "d has now been invited\n",
            "Do you want to invite somebody else? (y/n)n\n",
            "you have 2 people coming to your party\n"
          ]
        }
      ]
    },
    {
      "cell_type": "code",
      "source": [
        "# Display five colors and ask the user to pick one.\n",
        "# If they pick the same as the program has chosen,\n",
        "# say 'Well done', otherwise display a witty answer which involves\n",
        "# the correct colors....like...'I bet you are GREEN with envy'\n",
        "# or 'You are probably feeling BLUE right now'.\n",
        "# Ask them to guess again: if they have still not got it right,\n",
        "# keep giving them the same clue and ask the user to enter a color\n",
        "# until they guess it correctly.\n",
        "\n",
        "\n"
      ],
      "metadata": {
        "id": "Hg24yrzz_vR1"
      },
      "execution_count": null,
      "outputs": []
    }
  ]
}