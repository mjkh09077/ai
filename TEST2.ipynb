{
  "nbformat": 4,
  "nbformat_minor": 0,
  "metadata": {
    "colab": {
      "name": "TEST2.ipynb",
      "provenance": [],
      "authorship_tag": "ABX9TyNRYQPQw/nISbRSR2dyfieG",
      "include_colab_link": true
    },
    "kernelspec": {
      "name": "python3",
      "display_name": "Python 3"
    },
    "language_info": {
      "name": "python"
    }
  },
  "cells": [
    {
      "cell_type": "markdown",
      "metadata": {
        "id": "view-in-github",
        "colab_type": "text"
      },
      "source": [
        "<a href=\"https://colab.research.google.com/github/mjkh09077/ai/blob/main/TEST2.ipynb\" target=\"_parent\"><img src=\"https://colab.research.google.com/assets/colab-badge.svg\" alt=\"Open In Colab\"/></a>"
      ]
    },
    {
      "cell_type": "code",
      "execution_count": 17,
      "metadata": {
        "colab": {
          "base_uri": "https://localhost:8080/"
        },
        "id": "dwO8Dtbvvbgf",
        "outputId": "93022bad-71cb-4313-a4cf-24d639fec66d"
      },
      "outputs": [
        {
          "output_type": "stream",
          "name": "stdout",
          "text": [
            "enter a number >>> 11\n",
            "True\n"
          ]
        }
      ],
      "source": [
        "x = int(input('enter a number >>> '))    #임의의 수 x 입력\n",
        "\n",
        "def prime_number(x):                     # 소수 정의 \n",
        "    for i in range(2, x):                # 2~(x - 1) 범위에서 소수인지 아닌지 판별\n",
        "       if x % i == 0:                    # 임의의 수 x가 어떤 수 i로 나누어 떨어지면 소수 아님 -> False로 출력\n",
        "         return False                    \n",
        "    return True                          # 나누어 떨어지지 않으면 소수 -> True로 출력\n",
        "            \n",
        "            \n",
        "print(prime_number(x))"
      ]
    },
    {
      "cell_type": "code",
      "source": [
        "x = int(input('enter a number >>> '))    #임의의 수 x 입력\n",
        "\n",
        "def prime_number(x):                     # 소수 정의 \n",
        "    for i in range(2, x):                # 2~(x - 1) 범위에서 소수인지 아닌지 판별\n",
        "       if x % i == 0:                    # 임의의 수 x가 어떤 수 i로 나누어 떨어지면 소수 아님 -> False로 출력\n",
        "         return False                    \n",
        "    return True                          # 나누어 떨어지지 않으면 소수 -> True로 출력\n",
        "            \n",
        "            \n",
        "print(prime_number(x))"
      ],
      "metadata": {
        "colab": {
          "base_uri": "https://localhost:8080/"
        },
        "id": "ctVO0VJDxqyw",
        "outputId": "17d935a1-f7fe-4816-e25f-93d6d06e2469"
      },
      "execution_count": 16,
      "outputs": [
        {
          "output_type": "stream",
          "name": "stdout",
          "text": [
            "enter a number >>> 15\n",
            "False\n"
          ]
        }
      ]
    },
    {
      "cell_type": "code",
      "source": [
        "x = int(input('enter a number >>> '))    #임의의 수 x 입력\n",
        "\n",
        "def prime_number(x):                     # 소수 정의 \n",
        "    for i in range(2, x):                # 2~(x - 1) 범위에서 소수인지 아닌지 판별\n",
        "       if x % i == 0:                    # 임의의 수 x가 어떤 수 i로 나누어 떨어지면 소수 아님 -> False로 출력\n",
        "         return False                    \n",
        "    return True                          # 나누어 떨어지지 않으면 소수 -> True로 출력\n",
        "            \n",
        "            \n",
        "print(prime_number(x))"
      ],
      "metadata": {
        "colab": {
          "base_uri": "https://localhost:8080/"
        },
        "id": "SDr5JR5ExwIP",
        "outputId": "8d77d3a4-a9cc-4872-af86-6a201f3c8db1"
      },
      "execution_count": 18,
      "outputs": [
        {
          "output_type": "stream",
          "name": "stdout",
          "text": [
            "enter a number >>> 1\n",
            "True\n"
          ]
        }
      ]
    }
  ]
}