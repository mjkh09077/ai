{
  "nbformat": 4,
  "nbformat_minor": 0,
  "metadata": {
    "colab": {
      "name": "Untitled5.ipynb",
      "provenance": [],
      "authorship_tag": "ABX9TyOx2/RoHYaY31xSVeP51Izl",
      "include_colab_link": true
    },
    "kernelspec": {
      "name": "python3",
      "display_name": "Python 3"
    },
    "language_info": {
      "name": "python"
    }
  },
  "cells": [
    {
      "cell_type": "markdown",
      "metadata": {
        "id": "view-in-github",
        "colab_type": "text"
      },
      "source": [
        "<a href=\"https://colab.research.google.com/github/mjkh09077/ai/blob/main/Untitled5.ipynb\" target=\"_parent\"><img src=\"https://colab.research.google.com/assets/colab-badge.svg\" alt=\"Open In Colab\"/></a>"
      ]
    },
    {
      "cell_type": "code",
      "execution_count": 1,
      "metadata": {
        "colab": {
          "base_uri": "https://localhost:8080/"
        },
        "id": "qVdrsE3Plsqd",
        "outputId": "2e444f2a-ac5d-4854-c720-0d93750f1ffd"
      },
      "outputs": [
        {
          "output_type": "stream",
          "name": "stdout",
          "text": [
            "a 입력1\n",
            "b 입력3\n",
            "3\n"
          ]
        }
      ],
      "source": [
        "a = int(input('a 입력'))\n",
        "b = int(input('b 입력'))\n",
        "\n",
        "if a>b:\n",
        "  print(a)\n",
        "else:\n",
        "  print(b)"
      ]
    },
    {
      "cell_type": "code",
      "source": [
        "a = int(input('a 입력'))\n",
        "b = int(input('b 입력'))\n",
        "\n",
        "if a>b:\n",
        "  print(a)\n",
        "elif a<b:\n",
        "  print(b)\n",
        "else:\n",
        "  print('a=b')"
      ],
      "metadata": {
        "colab": {
          "base_uri": "https://localhost:8080/"
        },
        "id": "T1_2rP95sJQa",
        "outputId": "2b216d64-c814-4e84-8723-127728107eba"
      },
      "execution_count": 3,
      "outputs": [
        {
          "output_type": "stream",
          "name": "stdout",
          "text": [
            "a 입력2\n",
            "b 입력2\n",
            "a=b\n"
          ]
        }
      ]
    },
    {
      "cell_type": "code",
      "source": [
        "arr = [12,13,11,14,10]\n",
        "sum = 0\n",
        "\n",
        "for i in arr:\n",
        "  sum = sum + i\n",
        "\n",
        "  print(sum)"
      ],
      "metadata": {
        "colab": {
          "base_uri": "https://localhost:8080/"
        },
        "id": "_S4WU_WZ5_sI",
        "outputId": "f8d676cf-ad3c-4d51-8ac4-fb52b161ee80"
      },
      "execution_count": 6,
      "outputs": [
        {
          "output_type": "stream",
          "name": "stdout",
          "text": [
            "12\n",
            "25\n",
            "36\n",
            "50\n",
            "60\n"
          ]
        }
      ]
    },
    {
      "cell_type": "code",
      "source": [
        "arr = [12,13,11,14,10]\n",
        "max = arr[0]\n",
        "\n",
        "for i in arr:\n",
        "  if i > max:\n",
        "    max = i\n",
        "\n",
        "print(max)"
      ],
      "metadata": {
        "colab": {
          "base_uri": "https://localhost:8080/"
        },
        "id": "B-UUIghQ68fA",
        "outputId": "d420b710-30e4-4653-d30b-22bdbfd049a3"
      },
      "execution_count": 14,
      "outputs": [
        {
          "output_type": "stream",
          "name": "stdout",
          "text": [
            "14\n"
          ]
        }
      ]
    },
    {
      "cell_type": "code",
      "source": [
        "arr = [4,2,3,5,1]\n",
        "\n",
        "for i in range(0,5):\n",
        "  if arr[i] == 5:\n",
        "    print(f'{i}번째 요소가 일치')\n",
        "    break\n",
        "\n"
      ],
      "metadata": {
        "colab": {
          "base_uri": "https://localhost:8080/"
        },
        "id": "O5skIM_ImnBm",
        "outputId": "1cbfa7a3-f8a2-4251-f9ec-94f7dd6c1145"
      },
      "execution_count": 16,
      "outputs": [
        {
          "output_type": "stream",
          "name": "stdout",
          "text": [
            "3번째 요소가 일치\n"
          ]
        }
      ]
    },
    {
      "cell_type": "code",
      "source": [
        ""
      ],
      "metadata": {
        "id": "Plm-gD22ABEF"
      },
      "execution_count": null,
      "outputs": []
    }
  ]
}