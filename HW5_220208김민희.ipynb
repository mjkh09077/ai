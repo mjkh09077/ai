{
  "nbformat": 4,
  "nbformat_minor": 0,
  "metadata": {
    "colab": {
      "name": "HW5_220208김민희.ipynb",
      "provenance": [],
      "authorship_tag": "ABX9TyMGoM6f2Bg7NenxaY47X83u",
      "include_colab_link": true
    },
    "kernelspec": {
      "name": "python3",
      "display_name": "Python 3"
    },
    "language_info": {
      "name": "python"
    }
  },
  "cells": [
    {
      "cell_type": "markdown",
      "metadata": {
        "id": "view-in-github",
        "colab_type": "text"
      },
      "source": [
        "<a href=\"https://colab.research.google.com/github/mjkh09077/ai/blob/main/HW5_220208%EA%B9%80%EB%AF%BC%ED%9D%AC.ipynb\" target=\"_parent\"><img src=\"https://colab.research.google.com/assets/colab-badge.svg\" alt=\"Open In Colab\"/></a>"
      ]
    },
    {
      "cell_type": "code",
      "execution_count": 8,
      "metadata": {
        "colab": {
          "base_uri": "https://localhost:8080/"
        },
        "id": "Sw3J7YDgnK9w",
        "outputId": "3a3b0e06-131a-465b-d793-73dcc5bb5799"
      },
      "outputs": [
        {
          "output_type": "stream",
          "name": "stdout",
          "text": [
            "0\n"
          ]
        }
      ],
      "source": [
        "#231\n",
        "def n_plus_1 (n) :\n",
        " result = n + 1\n",
        "n_plus_1(3)\n",
        "print (result)"
      ]
    },
    {
      "cell_type": "code",
      "source": [
        "#232\n",
        "def make_url(str):\n",
        "  url = \"www.\" + str + \".com\"\n",
        "  return url\n",
        "\n",
        "make_url(\"naver\")"
      ],
      "metadata": {
        "colab": {
          "base_uri": "https://localhost:8080/",
          "height": 35
        },
        "id": "FAJkEUvKnirk",
        "outputId": "9763f408-7fb8-4851-a469-5ab785af26d5"
      },
      "execution_count": 16,
      "outputs": [
        {
          "output_type": "execute_result",
          "data": {
            "application/vnd.google.colaboratory.intrinsic+json": {
              "type": "string"
            },
            "text/plain": [
              "'www.naver.com'"
            ]
          },
          "metadata": {},
          "execution_count": 16
        }
      ]
    },
    {
      "cell_type": "code",
      "source": [
        "#233\n",
        "def make_list(str):\n",
        "  return list(str)\n",
        "\n",
        "make_list(\"abcd\")"
      ],
      "metadata": {
        "colab": {
          "base_uri": "https://localhost:8080/"
        },
        "id": "r2028vPSqXh5",
        "outputId": "aed36c04-8965-4518-a83e-d2bda7cbcad3"
      },
      "execution_count": 20,
      "outputs": [
        {
          "output_type": "execute_result",
          "data": {
            "text/plain": [
              "['a', 'b', 'c', 'd']"
            ]
          },
          "metadata": {},
          "execution_count": 20
        }
      ]
    },
    {
      "cell_type": "code",
      "source": [
        "#234\n",
        "def pickup_even(list):\n",
        "  a = []\n",
        "  for i in list:\n",
        "    if i%2 == 0:\n",
        "      a.append(i)\n",
        "  return a\n",
        "\n",
        "pickup_even([3, 4, 5, 6, 7, 8])"
      ],
      "metadata": {
        "colab": {
          "base_uri": "https://localhost:8080/"
        },
        "id": "cWKjGdjfqzO4",
        "outputId": "817f87cf-4617-4595-e814-9efaf0fdfe2d"
      },
      "execution_count": 25,
      "outputs": [
        {
          "output_type": "execute_result",
          "data": {
            "text/plain": [
              "[4, 6, 8]"
            ]
          },
          "metadata": {},
          "execution_count": 25
        }
      ]
    },
    {
      "cell_type": "code",
      "source": [
        "#235\n",
        "def convert_int(str):\n",
        "  a = str.replace(\",\",\"\")\n",
        "  return int(str.replace(\",\",\"\"))\n",
        "\n",
        "convert_int(\"1,234,567\")"
      ],
      "metadata": {
        "colab": {
          "base_uri": "https://localhost:8080/"
        },
        "id": "7PnvXjZlsJTn",
        "outputId": "c0d5a0f0-a53b-4598-8c70-2615b7332f8a"
      },
      "execution_count": 28,
      "outputs": [
        {
          "output_type": "execute_result",
          "data": {
            "text/plain": [
              "1234567"
            ]
          },
          "metadata": {},
          "execution_count": 28
        }
      ]
    },
    {
      "cell_type": "code",
      "source": [
        "#236\n",
        "def 함수(num) :\n",
        " return num + 4\n",
        "a = 함수(10)\n",
        "b = 함수(a)\n",
        "c = 함수(b)\n",
        "print(c)"
      ],
      "metadata": {
        "colab": {
          "base_uri": "https://localhost:8080/"
        },
        "id": "EmS4enYYu0x3",
        "outputId": "287e8bbf-031a-44ac-b365-c89940c0c6f3"
      },
      "execution_count": 30,
      "outputs": [
        {
          "output_type": "stream",
          "name": "stdout",
          "text": [
            "22\n"
          ]
        }
      ]
    },
    {
      "cell_type": "code",
      "source": [
        "#237\n",
        "def 함수(num) :\n",
        " return num + 4\n",
        "c = 함수(함수(함수(10)))\n",
        "print(c)"
      ],
      "metadata": {
        "colab": {
          "base_uri": "https://localhost:8080/"
        },
        "id": "ncc4GiLGvT1L",
        "outputId": "870a062b-38c4-4c87-badd-d2febf0f884b"
      },
      "execution_count": 31,
      "outputs": [
        {
          "output_type": "stream",
          "name": "stdout",
          "text": [
            "22\n"
          ]
        }
      ]
    },
    {
      "cell_type": "code",
      "source": [
        "#238\n",
        "def 함수1(num) :\n",
        " return num + 4\n",
        "def 함수2(num) :\n",
        " return num * 10\n",
        "a = 함수1(10)\n",
        "c = 함수2(a)\n",
        "print(c)\n"
      ],
      "metadata": {
        "colab": {
          "base_uri": "https://localhost:8080/"
        },
        "id": "Lg314uhivYp-",
        "outputId": "c72eedf3-eb97-4af9-9c9f-da9a6c3a30ff"
      },
      "execution_count": 35,
      "outputs": [
        {
          "output_type": "stream",
          "name": "stdout",
          "text": [
            "140\n"
          ]
        }
      ]
    },
    {
      "cell_type": "code",
      "source": [
        "#239\n",
        "def 함수1(num) :\n",
        " return num + 4\n",
        " \n",
        "def 함수2(num) :\n",
        " num = num + 2\n",
        " return 함수1(num)\n",
        " \n",
        "c = 함수2(10)\n",
        "print(c)"
      ],
      "metadata": {
        "colab": {
          "base_uri": "https://localhost:8080/"
        },
        "id": "vg8EDba3vxXx",
        "outputId": "3899dce1-f729-4835-ece2-bb4782b295e1"
      },
      "execution_count": 37,
      "outputs": [
        {
          "output_type": "stream",
          "name": "stdout",
          "text": [
            "16\n"
          ]
        }
      ]
    },
    {
      "cell_type": "code",
      "source": [
        "#240\n",
        "def 함수0(num) :\n",
        " return num * 2\n",
        "\n",
        "def 함수1(num) :\n",
        " return 함수0(num + 2)\n",
        "\n",
        "def 함수2(num) :\n",
        " num = num + 10\n",
        " return 함수1(num)\n",
        "\n",
        "c = 함수2(2)\n",
        "print(c)\n"
      ],
      "metadata": {
        "colab": {
          "base_uri": "https://localhost:8080/"
        },
        "id": "6bVIv-BPwDzZ",
        "outputId": "239fcef3-7063-4666-d9a1-f7c899fd1bb7"
      },
      "execution_count": 39,
      "outputs": [
        {
          "output_type": "stream",
          "name": "stdout",
          "text": [
            "28\n"
          ]
        }
      ]
    },
    {
      "cell_type": "code",
      "source": [
        "#296\n",
        "per = [\"10.31\", \"\", \"8.00\"]\n",
        "\n",
        "for i in per:\n",
        "    try:\n",
        "        print(float(i))\n",
        "    except:\n",
        "        print(0)"
      ],
      "metadata": {
        "colab": {
          "base_uri": "https://localhost:8080/"
        },
        "id": "lpzLXi76wQKM",
        "outputId": "5f7fe3ae-9556-44e4-dfdf-64b2b5f425e5"
      },
      "execution_count": 40,
      "outputs": [
        {
          "output_type": "stream",
          "name": "stdout",
          "text": [
            "10.31\n",
            "0\n",
            "8.0\n"
          ]
        }
      ]
    },
    {
      "cell_type": "code",
      "source": [
        "#297\n",
        "per = [\"10.31\", \"\", \"8.00\"]\n",
        "list = []\n",
        "\n",
        "for i in per:\n",
        "  try:\n",
        "    a = float(i)\n",
        "  except:\n",
        "    a = 0\n",
        "  list.append(a)\n",
        "\n",
        "print(list)"
      ],
      "metadata": {
        "colab": {
          "base_uri": "https://localhost:8080/"
        },
        "id": "chDerztXyScO",
        "outputId": "0c40a403-e4c6-4db9-9694-bc43b141b0a3"
      },
      "execution_count": 41,
      "outputs": [
        {
          "output_type": "stream",
          "name": "stdout",
          "text": [
            "[10.31, 0, 8.0]\n"
          ]
        }
      ]
    },
    {
      "cell_type": "code",
      "source": [
        "#298\n",
        "a = int(input('어떤 값'))\n",
        "\n",
        "try:\n",
        "    b = a / 0\n",
        "except ZeroDivisionError:\n",
        "    print(\"error\")"
      ],
      "metadata": {
        "colab": {
          "base_uri": "https://localhost:8080/"
        },
        "id": "QzPadapUyzly",
        "outputId": "a80a943b-7f0b-44ea-cb4c-430f108989e6"
      },
      "execution_count": 44,
      "outputs": [
        {
          "output_type": "stream",
          "name": "stdout",
          "text": [
            "어떤 값5\n",
            "error\n"
          ]
        }
      ]
    },
    {
      "cell_type": "code",
      "source": [
        "#299\n",
        "??"
      ],
      "metadata": {
        "id": "XOryjUCzzPWb"
      },
      "execution_count": null,
      "outputs": []
    },
    {
      "cell_type": "code",
      "source": [
        "#300\n",
        "per = [\"10.31\", \"\", \"8.00\"]\n",
        "\n",
        "for i in per:\n",
        "    try:\n",
        "        print(float(i))\n",
        "    except:\n",
        "        print(0)\n",
        "    else:\n",
        "        print('')\n",
        "    finally:\n",
        "        print('')"
      ],
      "metadata": {
        "colab": {
          "base_uri": "https://localhost:8080/"
        },
        "id": "_gbVwvTz0I0Q",
        "outputId": "25c7de28-bada-4ac3-9d8e-9798499cfba4"
      },
      "execution_count": 46,
      "outputs": [
        {
          "output_type": "stream",
          "name": "stdout",
          "text": [
            "10.31\n",
            "\n",
            "\n",
            "0\n",
            "\n",
            "8.0\n",
            "\n",
            "\n"
          ]
        }
      ]
    }
  ]
}