{
  "nbformat": 4,
  "nbformat_minor": 0,
  "metadata": {
    "colab": {
      "name": "220221.ipynb",
      "provenance": [],
      "authorship_tag": "ABX9TyNeW6cfgyZZvnL8kQDcYHCF",
      "include_colab_link": true
    },
    "kernelspec": {
      "name": "python3",
      "display_name": "Python 3"
    },
    "language_info": {
      "name": "python"
    }
  },
  "cells": [
    {
      "cell_type": "markdown",
      "metadata": {
        "id": "view-in-github",
        "colab_type": "text"
      },
      "source": [
        "<a href=\"https://colab.research.google.com/github/mjkh09077/ai/blob/main/220221.ipynb\" target=\"_parent\"><img src=\"https://colab.research.google.com/assets/colab-badge.svg\" alt=\"Open In Colab\"/></a>"
      ]
    },
    {
      "cell_type": "code",
      "execution_count": 2,
      "metadata": {
        "colab": {
          "base_uri": "https://localhost:8080/"
        },
        "id": "87tAWAp-lWtW",
        "outputId": "9466c0cb-02ff-49df-9e38-6aa7ec9f2410"
      },
      "outputs": [
        {
          "output_type": "stream",
          "name": "stdout",
          "text": [
            "17"
          ]
        }
      ],
      "source": [
        "def call(var1=20,var2=5,var3=2):\n",
        "  print((var1*var2)-var3,end='')\n",
        "call(var2=5,var3=3,var1=4)"
      ]
    },
    {
      "cell_type": "code",
      "source": [
        "myvar=5\n",
        "def printvar():\n",
        "  print(myvar)\n",
        "printvar()"
      ],
      "metadata": {
        "colab": {
          "base_uri": "https://localhost:8080/"
        },
        "id": "f3qZASsErk3l",
        "outputId": "c96a4cd4-40f5-4ea5-f31b-70b7b0611efe"
      },
      "execution_count": 4,
      "outputs": [
        {
          "output_type": "stream",
          "name": "stdout",
          "text": [
            "5\n"
          ]
        }
      ]
    },
    {
      "cell_type": "code",
      "source": [
        "for i in range(0,5):\n",
        "  print(i,end='')\n",
        "  if i == 2:\n",
        "    continue"
      ],
      "metadata": {
        "colab": {
          "base_uri": "https://localhost:8080/"
        },
        "id": "pfLaiW9Wrxcw",
        "outputId": "01be440e-1e20-46ff-fc0d-e75af5c8a0be"
      },
      "execution_count": 5,
      "outputs": [
        {
          "output_type": "stream",
          "name": "stdout",
          "text": [
            "01234"
          ]
        }
      ]
    },
    {
      "cell_type": "code",
      "source": [
        "for i in range(1,5):\n",
        "  print(i,end='')\n",
        "  if i == 3:\n",
        "    break"
      ],
      "metadata": {
        "colab": {
          "base_uri": "https://localhost:8080/"
        },
        "id": "KoT5l6YGr5C_",
        "outputId": "48611c98-8aa0-41f9-c1ee-cbbba0295ba4"
      },
      "execution_count": 6,
      "outputs": [
        {
          "output_type": "stream",
          "name": "stdout",
          "text": [
            "123"
          ]
        }
      ]
    },
    {
      "cell_type": "code",
      "source": [
        "x = {'x':1,'y':2,'z':3}\n",
        "\n",
        "for i in x:\n",
        "  print(i,end='')"
      ],
      "metadata": {
        "colab": {
          "base_uri": "https://localhost:8080/"
        },
        "id": "d0Rn7Zwqr-5i",
        "outputId": "e80c85a3-89bd-4c46-eed7-2110b0c6e763"
      },
      "execution_count": 7,
      "outputs": [
        {
          "output_type": "stream",
          "name": "stdout",
          "text": [
            "xyz"
          ]
        }
      ]
    },
    {
      "cell_type": "code",
      "source": [
        "x = {'P','y','t','h','o','n'}\n",
        "\n",
        "for i in enumerate(x):\n",
        "  print(i,end='')"
      ],
      "metadata": {
        "colab": {
          "base_uri": "https://localhost:8080/"
        },
        "id": "8mYjVqGrsKWK",
        "outputId": "745edd21-1200-4902-b099-21964214b1c2"
      },
      "execution_count": 9,
      "outputs": [
        {
          "output_type": "stream",
          "name": "stdout",
          "text": [
            "(0, 'h')(1, 'P')(2, 'n')(3, 't')(4, 'y')(5, 'o')"
          ]
        }
      ]
    },
    {
      "cell_type": "code",
      "source": [
        "x = int(input('enter a number >>> '))\n",
        "\n",
        "def is_prime_number(x): \n",
        "    for i in range(2, x):     # 2~(x - 1) 범위에서 소수인지 아닌지 판별 \n",
        "        if x % i == 0:        # 임의의 수 x가 어떤 수 i로 나누어 떨어지면 소수 아님 -> False로 출력\n",
        "            return False\n",
        "        elif x == 1:\n",
        "            return False    \n",
        "    return True               # 나누어 떨어지지 않으면 소수 -> True로 출력\n",
        "\n",
        "print(is_prime_number(x))"
      ],
      "metadata": {
        "colab": {
          "base_uri": "https://localhost:8080/"
        },
        "id": "zIvo5KqcsvSL",
        "outputId": "86117437-5239-4bc0-f53f-4942e40fd1f9"
      },
      "execution_count": 18,
      "outputs": [
        {
          "output_type": "stream",
          "name": "stdout",
          "text": [
            "enter a number >>> 15\n",
            "False\n"
          ]
        }
      ]
    },
    {
      "cell_type": "code",
      "source": [
        "country = ('Korea','US','Germany','UK','France')\n",
        "c = input('enter one country >>> ')\n",
        "\n",
        "print(f'{c} has index number {country.index(c)}')"
      ],
      "metadata": {
        "colab": {
          "base_uri": "https://localhost:8080/"
        },
        "id": "6jeAQxd_uB1K",
        "outputId": "5b5a25ff-1b74-4f5f-b6ca-5a4846fa1ad2"
      },
      "execution_count": 25,
      "outputs": [
        {
          "output_type": "stream",
          "name": "stdout",
          "text": [
            "enter one country >>> Korea\n",
            "Korea has index number 0\n"
          ]
        }
      ]
    },
    {
      "cell_type": "code",
      "source": [
        "country = ('Korea','US','Germany','UK','France')\n",
        "c = int(input('enter a number >>> '))\n",
        "\n",
        "print(f'{c} is {country[c]}')"
      ],
      "metadata": {
        "colab": {
          "base_uri": "https://localhost:8080/"
        },
        "id": "zXm2D_03I1l9",
        "outputId": "c191a354-0526-4c8e-c6d7-e0a5b42bf265"
      },
      "execution_count": 29,
      "outputs": [
        {
          "output_type": "stream",
          "name": "stdout",
          "text": [
            "enter a number >>> 1\n",
            "1 is US\n"
          ]
        }
      ]
    },
    {
      "cell_type": "code",
      "source": [
        "a = ['soccer','baseball']\n",
        "s = str(input('what is your favorite sport >>> '))\n",
        "a.append(s)\n",
        "a.sort()\n",
        "print(a)"
      ],
      "metadata": {
        "colab": {
          "base_uri": "https://localhost:8080/"
        },
        "id": "ji65Vm8eKKdb",
        "outputId": "1875e3e1-6064-4594-e287-7377bac78391"
      },
      "execution_count": 36,
      "outputs": [
        {
          "output_type": "stream",
          "name": "stdout",
          "text": [
            "what is your favorite sport >>> tennis\n",
            "['baseball', 'soccer', 'tennis']\n"
          ]
        }
      ]
    },
    {
      "cell_type": "code",
      "source": [
        "food_dict = {}\n"
      ],
      "metadata": {
        "id": "kgA7HcI8M-up"
      },
      "execution_count": null,
      "outputs": []
    }
  ]
}