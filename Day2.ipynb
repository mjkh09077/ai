{
  "nbformat": 4,
  "nbformat_minor": 0,
  "metadata": {
    "colab": {
      "name": "Day2.ipynb",
      "provenance": [],
      "authorship_tag": "ABX9TyNvluOMonzd/gE6nj6W1Rz8",
      "include_colab_link": true
    },
    "kernelspec": {
      "name": "python3",
      "display_name": "Python 3"
    },
    "language_info": {
      "name": "python"
    }
  },
  "cells": [
    {
      "cell_type": "markdown",
      "metadata": {
        "id": "view-in-github",
        "colab_type": "text"
      },
      "source": [
        "<a href=\"https://colab.research.google.com/github/mjkh09077/ai/blob/main/Day2.ipynb\" target=\"_parent\"><img src=\"https://colab.research.google.com/assets/colab-badge.svg\" alt=\"Open In Colab\"/></a>"
      ]
    },
    {
      "cell_type": "code",
      "execution_count": 1,
      "metadata": {
        "colab": {
          "base_uri": "https://localhost:8080/"
        },
        "id": "Oq_eZEZvr6eR",
        "outputId": "96234fdd-626b-4db2-96ac-3a23818b494f"
      },
      "outputs": [
        {
          "output_type": "stream",
          "name": "stdout",
          "text": [
            "r\n",
            "d\n",
            "d\n",
            "강남구\n"
          ]
        }
      ],
      "source": [
        "#인덱싱 (슬라이싱)\n",
        "\n",
        "s='world'\n",
        "print(s[2]) #파이썬은 인덱스 시작이 0이다.\n",
        "print(s[-1]) #-1은 마지막 인덱스를 가리킨다.\n",
        "print(s[4]) #하나만 추출할때는 indexing\n",
        "\n",
        "addr = '서울시 강남구 역삼동 1번지'\n",
        "print(addr[4:7]) #4이상 7미만 / 여러개를 추출할때는 slicing"
      ]
    },
    {
      "cell_type": "code",
      "source": [
        "list = [1,2,3]\n",
        "print(list)"
      ],
      "metadata": {
        "colab": {
          "base_uri": "https://localhost:8080/"
        },
        "id": "t-uRm9mPFDWv",
        "outputId": "37a5c626-1f6b-4dad-bc7f-82c0adecb4ac"
      },
      "execution_count": 2,
      "outputs": [
        {
          "output_type": "stream",
          "name": "stdout",
          "text": [
            "[1, 2, 3]\n"
          ]
        }
      ]
    },
    {
      "cell_type": "code",
      "source": [
        "set={1,1,2,2,3,3,4}\n",
        "print(set)\n",
        "\n",
        "print(set[0])"
      ],
      "metadata": {
        "colab": {
          "base_uri": "https://localhost:8080/",
          "height": 229
        },
        "id": "KNG7YWgj1ne8",
        "outputId": "2f2b1642-b9fa-4291-e4d9-0711c231cb37"
      },
      "execution_count": 2,
      "outputs": [
        {
          "output_type": "stream",
          "name": "stdout",
          "text": [
            "{1, 2, 3, 4}\n"
          ]
        },
        {
          "output_type": "error",
          "ename": "TypeError",
          "evalue": "ignored",
          "traceback": [
            "\u001b[0;31m---------------------------------------------------------------------------\u001b[0m",
            "\u001b[0;31mTypeError\u001b[0m                                 Traceback (most recent call last)",
            "\u001b[0;32m<ipython-input-2-a379e126350b>\u001b[0m in \u001b[0;36m<module>\u001b[0;34m()\u001b[0m\n\u001b[1;32m      2\u001b[0m \u001b[0mprint\u001b[0m\u001b[0;34m(\u001b[0m\u001b[0mset\u001b[0m\u001b[0;34m)\u001b[0m\u001b[0;34m\u001b[0m\u001b[0;34m\u001b[0m\u001b[0m\n\u001b[1;32m      3\u001b[0m \u001b[0;34m\u001b[0m\u001b[0m\n\u001b[0;32m----> 4\u001b[0;31m \u001b[0mprint\u001b[0m\u001b[0;34m(\u001b[0m\u001b[0mset\u001b[0m\u001b[0;34m[\u001b[0m\u001b[0;36m0\u001b[0m\u001b[0;34m]\u001b[0m\u001b[0;34m)\u001b[0m\u001b[0;34m\u001b[0m\u001b[0;34m\u001b[0m\u001b[0m\n\u001b[0m",
            "\u001b[0;31mTypeError\u001b[0m: 'set' object is not subscriptable"
          ]
        }
      ]
    },
    {
      "cell_type": "code",
      "source": [
        "#집합 계산\n",
        "set1 = {1,2,3}\n",
        "set2 = {2,3,4}\n",
        "\n",
        "#교집합\n",
        "print(set1&set2)  \n",
        "print(set1.intersection(set2))\n",
        "\n",
        "#합집합\n",
        "print(set1.union(set2))\n",
        "\n",
        "#차집합\n",
        "print(set1-set2)"
      ],
      "metadata": {
        "colab": {
          "base_uri": "https://localhost:8080/"
        },
        "id": "T8FzqnKe48qK",
        "outputId": "59562315-360d-4b6d-bb58-3485e41ce0ca"
      },
      "execution_count": 7,
      "outputs": [
        {
          "output_type": "stream",
          "name": "stdout",
          "text": [
            "{2, 3}\n",
            "{2, 3}\n",
            "{1, 2, 3, 4}\n",
            "{1}\n"
          ]
        }
      ]
    },
    {
      "cell_type": "code",
      "source": [
        "set1 = {1,2,3}\n",
        "set1.add(4)\n",
        "print(set1)\n",
        "\n",
        "set1.update([5,6,7,8])\n",
        "print(set1)\n",
        "\n",
        "set1.remove(4)\n",
        "print(set1)"
      ],
      "metadata": {
        "colab": {
          "base_uri": "https://localhost:8080/"
        },
        "id": "lvjr84wQ6e0m",
        "outputId": "66c19b3c-24f1-40cc-80c5-53c7a1d5cc6d"
      },
      "execution_count": 11,
      "outputs": [
        {
          "output_type": "stream",
          "name": "stdout",
          "text": [
            "{1, 2, 3, 4}\n",
            "{1, 2, 3, 4, 5, 6, 7, 8}\n",
            "{1, 2, 3, 5, 6, 7, 8}\n"
          ]
        }
      ]
    },
    {
      "cell_type": "code",
      "source": [
        "n = input('학번을 입력하세요')\n",
        "\n",
        "print(f'{n[0]}학년 {n[1:3]}반 {n[3:5]}번')"
      ],
      "metadata": {
        "colab": {
          "base_uri": "https://localhost:8080/"
        },
        "id": "L6dHMId4_hRb",
        "outputId": "aa4be00b-873b-460b-f0cd-4cf6ffdbc341"
      },
      "execution_count": 21,
      "outputs": [
        {
          "output_type": "stream",
          "name": "stdout",
          "text": [
            "학번을 입력하세요31025\n",
            "3학년 10반 25번\n"
          ]
        }
      ]
    },
    {
      "cell_type": "code",
      "source": [
        "n = input('차량 번호를 입력하세요')\n",
        "\n",
        "print(f'{n}의 차량번호 끝 4자리는 {n[4:8]}')"
      ],
      "metadata": {
        "colab": {
          "base_uri": "https://localhost:8080/"
        },
        "id": "wBQE04zyB9mf",
        "outputId": "e9e581b3-a45c-428c-efe7-d35d11514815"
      },
      "execution_count": 26,
      "outputs": [
        {
          "output_type": "stream",
          "name": "stdout",
          "text": [
            "차량 번호를 입력하세요서울2가1234\n",
            "서울2가1234의 차량번호 끝 4자리는 1234\n"
          ]
        }
      ]
    },
    {
      "cell_type": "code",
      "source": [
        "name = input('문자열을 홀수로 입력하시오')\n",
        "print(len(name)//2) #몫만 추출\n",
        "print(int(len(name)/2)) #몫만 추출\n",
        "print(len(name)%2) #나머지만 추출\n",
        "print(f'문자열의 가운데 글자는 입니다.')\n"
      ],
      "metadata": {
        "colab": {
          "base_uri": "https://localhost:8080/"
        },
        "id": "u09svgIEDk5r",
        "outputId": "cc74a05b-f6f8-4f6f-bdee-9231249d5b20"
      },
      "execution_count": 31,
      "outputs": [
        {
          "output_type": "stream",
          "name": "stdout",
          "text": [
            "문자열을 홀수로 입력하시오123\n",
            "문자열의 가운데 글자는 울입니다.\n"
          ]
        }
      ]
    },
    {
      "cell_type": "code",
      "source": [
        "s = [1,2,3,4,5,6,7,8,9]\n",
        "\n",
        "print(s[2:7][1])"
      ],
      "metadata": {
        "colab": {
          "base_uri": "https://localhost:8080/"
        },
        "id": "TyqC8KoVHl9v",
        "outputId": "47836bef-53f9-4000-9a72-1614cbee1b36"
      },
      "execution_count": 35,
      "outputs": [
        {
          "output_type": "stream",
          "name": "stdout",
          "text": [
            "4\n"
          ]
        }
      ]
    },
    {
      "cell_type": "code",
      "source": [
        "s = int(input('당신의 점수를 입력하세요'))\n",
        "if s<100:\n",
        "  print('당신의 점수는 {s}점이고 학점은 A학점입니다.')\n",
        "\n",
        "elif s<90:\n",
        "  print('당신의 점수는 {s}점이고 학점은 B학점입니다.')\n",
        "\n",
        "elif s<80:\n",
        "  print('당신의 점수는 {s}점이고 학점은 C학점입니다.')\n",
        "\n",
        "elif s<70:\n",
        "  print('당신의 점수는 {s}점이고 학점은 D학점입니다.')\n",
        "\n",
        "else s<60:\n",
        "  print('당신의 점수는 {s}점이고 학점은 F학점입니다.')"
      ],
      "metadata": {
        "colab": {
          "base_uri": "https://localhost:8080/",
          "height": 137
        },
        "id": "jN_bZmWZR7Nq",
        "outputId": "e8342a1f-2b7b-46ae-ddac-42a118e86767"
      },
      "execution_count": 40,
      "outputs": [
        {
          "output_type": "error",
          "ename": "SyntaxError",
          "evalue": "ignored",
          "traceback": [
            "\u001b[0;36m  File \u001b[0;32m\"<ipython-input-40-3e6fc3bd198d>\"\u001b[0;36m, line \u001b[0;32m14\u001b[0m\n\u001b[0;31m    else s<60:\u001b[0m\n\u001b[0m         ^\u001b[0m\n\u001b[0;31mSyntaxError\u001b[0m\u001b[0;31m:\u001b[0m invalid syntax\n"
          ]
        }
      ]
    },
    {
      "cell_type": "code",
      "source": [
        "n = int(input('정수를 입력하세요'))\n"
      ],
      "metadata": {
        "id": "IBDvT0wjT1A3"
      },
      "execution_count": null,
      "outputs": []
    }
  ]
}