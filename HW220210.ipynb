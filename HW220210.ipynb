{
  "nbformat": 4,
  "nbformat_minor": 0,
  "metadata": {
    "colab": {
      "name": "HW220210.ipynb",
      "provenance": [],
      "authorship_tag": "ABX9TyNNcMyFAzWsVdUn7vi6XMHR",
      "include_colab_link": true
    },
    "kernelspec": {
      "name": "python3",
      "display_name": "Python 3"
    },
    "language_info": {
      "name": "python"
    }
  },
  "cells": [
    {
      "cell_type": "markdown",
      "metadata": {
        "id": "view-in-github",
        "colab_type": "text"
      },
      "source": [
        "<a href=\"https://colab.research.google.com/github/mjkh09077/ai/blob/main/HW220210.ipynb\" target=\"_parent\"><img src=\"https://colab.research.google.com/assets/colab-badge.svg\" alt=\"Open In Colab\"/></a>"
      ]
    },
    {
      "cell_type": "code",
      "execution_count": 2,
      "metadata": {
        "colab": {
          "base_uri": "https://localhost:8080/"
        },
        "id": "wBE-9IsE31ha",
        "outputId": "f6971024-aef6-46aa-e79e-a9b0b52e282a"
      },
      "outputs": [
        {
          "output_type": "stream",
          "name": "stdout",
          "text": [
            "False\n"
          ]
        }
      ],
      "source": [
        "#456\n",
        "import keyword\n",
        "print(keyword.iskeyword('Python'))\n",
        "\n",
        "d"
      ]
    },
    {
      "cell_type": "code",
      "source": [
        "#457\n",
        "import random\n",
        "x = [3, 8, 6, 5, 0]\n",
        "print(random.choice(x))\n",
        "\n",
        "a"
      ],
      "metadata": {
        "colab": {
          "base_uri": "https://localhost:8080/"
        },
        "id": "WybbaKCUuVYr",
        "outputId": "229b3515-fe23-4899-c038-8efb29fc66ef"
      },
      "execution_count": 20,
      "outputs": [
        {
          "output_type": "stream",
          "name": "stdout",
          "text": [
            "5\n"
          ]
        }
      ]
    },
    {
      "cell_type": "code",
      "source": [
        "#458\n",
        "import random\n",
        "x = [3, 8, 6, 5, 0]\n",
        "random.shuffle(x)\n",
        "print(x) \n",
        "\n",
        "b"
      ],
      "metadata": {
        "colab": {
          "base_uri": "https://localhost:8080/"
        },
        "id": "exloJ5ojvSOb",
        "outputId": "c9a7ad41-ccdf-400b-962a-ff536960217b"
      },
      "execution_count": 23,
      "outputs": [
        {
          "output_type": "stream",
          "name": "stdout",
          "text": [
            "[8, 0, 3, 5, 6]\n"
          ]
        }
      ]
    },
    {
      "cell_type": "code",
      "source": [
        "#459\n",
        "import random \n",
        "x = [3, 8, 6, 5, 0] \n",
        "y = random.shuffle(x) \n",
        "print(y) \n",
        "\n",
        "c"
      ],
      "metadata": {
        "colab": {
          "base_uri": "https://localhost:8080/"
        },
        "id": "rSe1STEGvePX",
        "outputId": "7eee5986-2eeb-4b75-ad37-13d4212456b6"
      },
      "execution_count": 26,
      "outputs": [
        {
          "output_type": "stream",
          "name": "stdout",
          "text": [
            "None\n"
          ]
        }
      ]
    },
    {
      "cell_type": "code",
      "source": [
        "#460\n",
        "import sys \n",
        "x = sys.stdout.write('Python Jobs')\n",
        "\n",
        "b"
      ],
      "metadata": {
        "colab": {
          "base_uri": "https://localhost:8080/"
        },
        "id": "LtrOaSuYvnoO",
        "outputId": "d69166b3-6c28-4e44-c354-d5528a72021d"
      },
      "execution_count": 28,
      "outputs": [
        {
          "output_type": "stream",
          "name": "stdout",
          "text": [
            "Python Jobs"
          ]
        }
      ]
    },
    {
      "cell_type": "code",
      "source": [
        "#461\n",
        "import time \n",
        "print(time.time()) \n",
        "\n",
        "a"
      ],
      "metadata": {
        "colab": {
          "base_uri": "https://localhost:8080/"
        },
        "id": "UuoIwuv1v3RJ",
        "outputId": "50b81f69-aa55-498d-eaf8-c4241a2cf6c1"
      },
      "execution_count": 31,
      "outputs": [
        {
          "output_type": "stream",
          "name": "stdout",
          "text": [
            "1644481740.4281452\n"
          ]
        }
      ]
    },
    {
      "cell_type": "code",
      "source": [
        "#462\n",
        "import time \n",
        "print(type(time.time()))\n",
        "\n",
        "d"
      ],
      "metadata": {
        "colab": {
          "base_uri": "https://localhost:8080/"
        },
        "id": "Nnu5IJX-wJ93",
        "outputId": "74f9630a-d754-4611-f8c0-c12f5b1e642b"
      },
      "execution_count": 33,
      "outputs": [
        {
          "output_type": "stream",
          "name": "stdout",
          "text": [
            "<class 'float'>\n"
          ]
        }
      ]
    },
    {
      "cell_type": "code",
      "source": [
        "#463\n",
        "import time\n",
        "print(type(time.asctime()))\n",
        "\n",
        "a"
      ],
      "metadata": {
        "colab": {
          "base_uri": "https://localhost:8080/"
        },
        "id": "47Qa_PvbwdJf",
        "outputId": "0c23dd8f-95f3-46fc-d715-376534058740"
      },
      "execution_count": 38,
      "outputs": [
        {
          "output_type": "stream",
          "name": "stdout",
          "text": [
            "<class 'str'>\n"
          ]
        }
      ]
    },
    {
      "cell_type": "code",
      "source": [
        "#464\n",
        "import time\n",
        "print(time.asctime())\n",
        "\n",
        "b"
      ],
      "metadata": {
        "colab": {
          "base_uri": "https://localhost:8080/"
        },
        "id": "FBGoymKuwm7O",
        "outputId": "04996a57-0a71-4539-8cd0-e29a6d796ddf"
      },
      "execution_count": 36,
      "outputs": [
        {
          "output_type": "stream",
          "name": "stdout",
          "text": [
            "Thu Feb 10 08:32:25 2022\n"
          ]
        }
      ]
    },
    {
      "cell_type": "code",
      "source": [
        "#465\n",
        "import time \n",
        "y = (2016, 2, 10, 12, 45, 32, 5, 0, 0) \n",
        "print(time.asctime(y)) \n",
        "\n",
        "c"
      ],
      "metadata": {
        "colab": {
          "base_uri": "https://localhost:8080/"
        },
        "id": "30r8nFOZw3U4",
        "outputId": "ae1d50e9-19b8-4088-950e-9e4ae8bb5e42"
      },
      "execution_count": 39,
      "outputs": [
        {
          "output_type": "stream",
          "name": "stdout",
          "text": [
            "Sat Feb 10 12:45:32 2016\n"
          ]
        }
      ]
    },
    {
      "cell_type": "code",
      "source": [
        "#466\n",
        "import time \n",
        "y = time.asctime() \n",
        "print(y[:3]) \n",
        "\n",
        "c"
      ],
      "metadata": {
        "colab": {
          "base_uri": "https://localhost:8080/"
        },
        "id": "JP9-OVuXxBfq",
        "outputId": "e27d2a6b-427c-4fb4-8a87-c33aec131a66"
      },
      "execution_count": 40,
      "outputs": [
        {
          "output_type": "stream",
          "name": "stdout",
          "text": [
            "Thu\n"
          ]
        }
      ]
    },
    {
      "cell_type": "code",
      "source": [
        "#467\n",
        "import random \n",
        "print(int(random.random()*10)) \n",
        "\n",
        "b"
      ],
      "metadata": {
        "colab": {
          "base_uri": "https://localhost:8080/"
        },
        "id": "Sl0TpVsCxLDK",
        "outputId": "9a0ab95a-0acc-4c5e-e286-43471f962d57"
      },
      "execution_count": 43,
      "outputs": [
        {
          "output_type": "stream",
          "name": "stdout",
          "text": [
            "7\n"
          ]
        }
      ]
    },
    {
      "cell_type": "code",
      "source": [
        "#468\n",
        "import random \n",
        "print(int(random.random()*10) + 1)\n",
        "\n",
        "d"
      ],
      "metadata": {
        "colab": {
          "base_uri": "https://localhost:8080/"
        },
        "id": "a5wQ4YJaxTn-",
        "outputId": "6ebf6357-b9f5-4087-b9b5-9bbe0d796717"
      },
      "execution_count": 57,
      "outputs": [
        {
          "output_type": "stream",
          "name": "stdout",
          "text": [
            "8\n"
          ]
        }
      ]
    },
    {
      "cell_type": "code",
      "source": [
        "#469\n",
        "import random \n",
        "print(random.sample(range(20), 5)) \n",
        "\n",
        "a"
      ],
      "metadata": {
        "colab": {
          "base_uri": "https://localhost:8080/"
        },
        "id": "ZKIUlTdNxpRE",
        "outputId": "655fcdfe-e076-4a05-9a4c-650394570ce5"
      },
      "execution_count": 62,
      "outputs": [
        {
          "output_type": "stream",
          "name": "stdout",
          "text": [
            "[9, 1, 19, 8, 17]\n"
          ]
        }
      ]
    },
    {
      "cell_type": "code",
      "source": [
        "#470\n",
        "import random \n",
        "print(random.sample(range(5, 20), 4)) \n",
        "\n",
        "c"
      ],
      "metadata": {
        "colab": {
          "base_uri": "https://localhost:8080/"
        },
        "id": "DR3viYs2x0F7",
        "outputId": "bd3ec7f3-f896-4884-95f2-64d41dedd8c2"
      },
      "execution_count": 65,
      "outputs": [
        {
          "output_type": "stream",
          "name": "stdout",
          "text": [
            "[9, 5, 18, 10]\n"
          ]
        }
      ]
    },
    {
      "cell_type": "code",
      "source": [
        "#471\n",
        "print(a)\n",
        "\n",
        "d"
      ],
      "metadata": {
        "colab": {
          "base_uri": "https://localhost:8080/",
          "height": 193
        },
        "id": "eCp3z3B4x8UU",
        "outputId": "6c30b848-f85c-42f1-cd36-d3ef9f745fb1"
      },
      "execution_count": 66,
      "outputs": [
        {
          "output_type": "error",
          "ename": "NameError",
          "evalue": "ignored",
          "traceback": [
            "\u001b[0;31m---------------------------------------------------------------------------\u001b[0m",
            "\u001b[0;31mNameError\u001b[0m                                 Traceback (most recent call last)",
            "\u001b[0;32m<ipython-input-66-a0d5c749effb>\u001b[0m in \u001b[0;36m<module>\u001b[0;34m()\u001b[0m\n\u001b[1;32m      1\u001b[0m \u001b[0;31m#471\u001b[0m\u001b[0;34m\u001b[0m\u001b[0;34m\u001b[0m\u001b[0;34m\u001b[0m\u001b[0m\n\u001b[0;32m----> 2\u001b[0;31m \u001b[0mprint\u001b[0m\u001b[0;34m(\u001b[0m\u001b[0ma\u001b[0m\u001b[0;34m)\u001b[0m\u001b[0;34m\u001b[0m\u001b[0;34m\u001b[0m\u001b[0m\n\u001b[0m",
            "\u001b[0;31mNameError\u001b[0m: name 'a' is not defined"
          ]
        }
      ]
    },
    {
      "cell_type": "code",
      "source": [
        "#472\n",
        "a = \"Python Practice\"\n",
        "\n",
        "a"
      ],
      "metadata": {
        "id": "YcEMUEg-yKt9"
      },
      "execution_count": 69,
      "outputs": []
    },
    {
      "cell_type": "code",
      "source": [
        "#473\n",
        "a = true\n",
        "\n",
        "d"
      ],
      "metadata": {
        "colab": {
          "base_uri": "https://localhost:8080/",
          "height": 193
        },
        "id": "_NBK-3CmyUlm",
        "outputId": "9e8a4bc1-9d94-42c7-e142-32ae8b00d715"
      },
      "execution_count": 70,
      "outputs": [
        {
          "output_type": "error",
          "ename": "NameError",
          "evalue": "ignored",
          "traceback": [
            "\u001b[0;31m---------------------------------------------------------------------------\u001b[0m",
            "\u001b[0;31mNameError\u001b[0m                                 Traceback (most recent call last)",
            "\u001b[0;32m<ipython-input-70-68f5b4268a83>\u001b[0m in \u001b[0;36m<module>\u001b[0;34m()\u001b[0m\n\u001b[1;32m      1\u001b[0m \u001b[0;31m#473\u001b[0m\u001b[0;34m\u001b[0m\u001b[0;34m\u001b[0m\u001b[0;34m\u001b[0m\u001b[0m\n\u001b[0;32m----> 2\u001b[0;31m \u001b[0ma\u001b[0m \u001b[0;34m=\u001b[0m \u001b[0mtrue\u001b[0m\u001b[0;34m\u001b[0m\u001b[0;34m\u001b[0m\u001b[0m\n\u001b[0m",
            "\u001b[0;31mNameError\u001b[0m: name 'true' is not defined"
          ]
        }
      ]
    },
    {
      "cell_type": "code",
      "source": [
        "#474\n",
        "d"
      ],
      "metadata": {
        "id": "wKlT1n0OyaAq"
      },
      "execution_count": null,
      "outputs": []
    },
    {
      "cell_type": "code",
      "source": [
        "#475\n",
        "def xyz():\n",
        "  a = 56 \n",
        "  xyz() \n",
        "\n",
        "print(a)\n",
        "\n",
        "a"
      ],
      "metadata": {
        "id": "gZOXunt9yfmf"
      },
      "execution_count": 78,
      "outputs": []
    },
    {
      "cell_type": "code",
      "source": [
        "n = int(input(\"num? : \"))\n",
        "\n",
        "a=1\n",
        "b=1\n",
        "\n",
        "print(a, b, end=\" \")\n",
        "\n",
        "for i in range(3,n-5):\n",
        "    c=a+b\n",
        "    print(c,end=\" \")\n",
        "    a=b\n",
        "    b=c"
      ],
      "metadata": {
        "colab": {
          "base_uri": "https://localhost:8080/"
        },
        "id": "E9YG0Wqmy_W1",
        "outputId": "aaab3178-fa01-4ae2-f59a-b6975421d80d"
      },
      "execution_count": 83,
      "outputs": [
        {
          "output_type": "stream",
          "name": "stdout",
          "text": [
            "num? : 13\n",
            "1 1 2 3 5 8 13 "
          ]
        }
      ]
    }
  ]
}