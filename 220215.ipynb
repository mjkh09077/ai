{
  "nbformat": 4,
  "nbformat_minor": 0,
  "metadata": {
    "colab": {
      "name": "220215.ipynb",
      "provenance": [],
      "authorship_tag": "ABX9TyO8LFJhhWFevz73XTJEsMWj",
      "include_colab_link": true
    },
    "kernelspec": {
      "name": "python3",
      "display_name": "Python 3"
    },
    "language_info": {
      "name": "python"
    }
  },
  "cells": [
    {
      "cell_type": "markdown",
      "metadata": {
        "id": "view-in-github",
        "colab_type": "text"
      },
      "source": [
        "<a href=\"https://colab.research.google.com/github/mjkh09077/ai/blob/main/220215.ipynb\" target=\"_parent\"><img src=\"https://colab.research.google.com/assets/colab-badge.svg\" alt=\"Open In Colab\"/></a>"
      ]
    },
    {
      "cell_type": "code",
      "execution_count": 1,
      "metadata": {
        "id": "MXRUW41nqjRK"
      },
      "outputs": [],
      "source": [
        "import requests"
      ]
    },
    {
      "cell_type": "code",
      "source": [
        "from bs4 import BeautifulSoup as bs"
      ],
      "metadata": {
        "id": "xVzA9ZMxvrtK"
      },
      "execution_count": null,
      "outputs": []
    },
    {
      "cell_type": "code",
      "source": [
        "import pandas"
      ],
      "metadata": {
        "id": "BC8FThE3wkkT"
      },
      "execution_count": null,
      "outputs": []
    },
    {
      "cell_type": "code",
      "source": [
        "html = requests.get('https://www.melon.com/chart/top200')\n",
        "print(html.text)"
      ],
      "metadata": {
        "colab": {
          "base_uri": "https://localhost:8080/"
        },
        "id": "oL7t_2uZwmGh",
        "outputId": "d9a3478d-36c6-4c1c-b34c-ac20b77cbab1"
      },
      "execution_count": 4,
      "outputs": [
        {
          "output_type": "stream",
          "name": "stdout",
          "text": [
            "\n"
          ]
        }
      ]
    },
    {
      "cell_type": "code",
      "source": [
        "name = str(input('First name >>> '))\n",
        "print(f'Hello {name}')"
      ],
      "metadata": {
        "colab": {
          "base_uri": "https://localhost:8080/"
        },
        "id": "ZQfgN3KLjraF",
        "outputId": "54bb9def-ce30-4508-ace4-f0e7c0e733a8"
      },
      "execution_count": 1,
      "outputs": [
        {
          "output_type": "stream",
          "name": "stdout",
          "text": [
            "First name >>>Kim\n",
            "Hello Kim\n"
          ]
        }
      ]
    },
    {
      "cell_type": "code",
      "source": [
        "First_name = str(input('First name >>> '))\n",
        "Surname = str(input('Surname >>> '))\n",
        "print(f'Hello {First_name} {Surname}')"
      ],
      "metadata": {
        "colab": {
          "base_uri": "https://localhost:8080/"
        },
        "id": "jHvDb9sXkDHl",
        "outputId": "d95b9ddf-3df2-4e08-d88d-0e5fd13ab1a9"
      },
      "execution_count": 3,
      "outputs": [
        {
          "output_type": "stream",
          "name": "stdout",
          "text": [
            "First name >>> Minhee\n",
            "Surname >>> Kim\n",
            "Hello Minhee Kim\n"
          ]
        }
      ]
    },
    {
      "cell_type": "code",
      "source": [
        "a = int(input('number 1 >>> '))\n",
        "b = int(input('number 2 >>> '))\n",
        "print(f'The total is {a+b}')"
      ],
      "metadata": {
        "colab": {
          "base_uri": "https://localhost:8080/"
        },
        "id": "rztnbt1WlCaD",
        "outputId": "87036a55-5d68-44f3-8618-0644e00ebd14"
      },
      "execution_count": 4,
      "outputs": [
        {
          "output_type": "stream",
          "name": "stdout",
          "text": [
            "number 1 >>> 1\n",
            "number 2 >>> 2\n",
            "The total is 3\n"
          ]
        }
      ]
    },
    {
      "cell_type": "code",
      "source": [
        "a = int(input('The number of slices >>> '))\n",
        "b = int(input('How many slices have you eaten >>> '))\n",
        "print(f'The answer is {a-b}')"
      ],
      "metadata": {
        "colab": {
          "base_uri": "https://localhost:8080/"
        },
        "id": "e7vwnyePm5Ra",
        "outputId": "09526897-d641-418b-9d08-5702c1dcdaff"
      },
      "execution_count": 6,
      "outputs": [
        {
          "output_type": "stream",
          "name": "stdout",
          "text": [
            "The number of slices >>> 10\n",
            "How many slices have you eaten >>> 4\n",
            "The answer is 6\n"
          ]
        }
      ]
    },
    {
      "cell_type": "code",
      "source": [
        "d = int(input('The number of days'))\n",
        "h = d*24\n",
        "m = h*60\n",
        "s = m*60\n",
        "print(f'In {d}, days there are {h}hours,{m}minutes,{s}seconds')"
      ],
      "metadata": {
        "colab": {
          "base_uri": "https://localhost:8080/"
        },
        "id": "o02qKXUZoGZ3",
        "outputId": "ef9be5b1-ff9d-4e05-e933-d0ce8bd8add8"
      },
      "execution_count": 8,
      "outputs": [
        {
          "output_type": "stream",
          "name": "stdout",
          "text": [
            "The number of days5\n",
            "In 5, days there are 120hours,7200minutes,432000seconds\n"
          ]
        }
      ]
    },
    {
      "cell_type": "code",
      "source": [
        "a = int(input('Enter the number over 100 >>> '))\n",
        "b = int(input('Enter the number under 10 >>> '))\n",
        "print(f'{b} goes into {a} answer {a//b}')"
      ],
      "metadata": {
        "colab": {
          "base_uri": "https://localhost:8080/"
        },
        "id": "E1A6X2KKqFzT",
        "outputId": "80b98209-4650-4e62-bdd5-ee60eb4ce7e6"
      },
      "execution_count": 11,
      "outputs": [
        {
          "output_type": "stream",
          "name": "stdout",
          "text": [
            "Enter the number over 100 >>> 107\n",
            "Enter the number under 10 >>> 4\n",
            "4 goes into 107 answer 26\n"
          ]
        }
      ]
    },
    {
      "cell_type": "code",
      "source": [
        "a = int(input('Enter the first number >>>'))\n",
        "b = int(input('Enter the second number >>>'))\n",
        "\n",
        "if a < b:\n",
        "  print(a,b)\n",
        "else:\n",
        "  print(b,a)"
      ],
      "metadata": {
        "colab": {
          "base_uri": "https://localhost:8080/"
        },
        "id": "yvpluCSLt_MY",
        "outputId": "cb64affc-c276-4a68-a6b6-433a446a082d"
      },
      "execution_count": 15,
      "outputs": [
        {
          "output_type": "stream",
          "name": "stdout",
          "text": [
            "Enter the first number >>>3\n",
            "Enter the second number >>>2\n",
            "2 3\n"
          ]
        }
      ]
    },
    {
      "cell_type": "code",
      "source": [
        "a = int(input('Enter the number between 10 and 20 >>>'))\n",
        "\n",
        "if 10 < a <20:\n",
        "  print('Thank you')\n",
        "else:\n",
        "  print('incorrect number')"
      ],
      "metadata": {
        "colab": {
          "base_uri": "https://localhost:8080/"
        },
        "id": "Yuz97U1a0Qn_",
        "outputId": "211bcaf2-6b03-43e8-9378-515f7cfb35c9"
      },
      "execution_count": 17,
      "outputs": [
        {
          "output_type": "stream",
          "name": "stdout",
          "text": [
            "Enter the number between 10 and 20 >>>25\n",
            "incorrect number\n"
          ]
        }
      ]
    },
    {
      "cell_type": "code",
      "source": [
        "color = str(input('favorite color >>>'))\n",
        "\n",
        "if color == 'red' or color == 'RED' or color == 'Red':\n",
        "  print(f'I like red too')\n",
        "else:\n",
        "  print(f'I dont like {color}, I prefer red')"
      ],
      "metadata": {
        "colab": {
          "base_uri": "https://localhost:8080/"
        },
        "id": "jhij7Z0B2szk",
        "outputId": "212d942d-1a09-4a2a-808b-dbe1d2374fd0"
      },
      "execution_count": 22,
      "outputs": [
        {
          "output_type": "stream",
          "name": "stdout",
          "text": [
            "favorite color >>>red\n",
            "I like red too\n"
          ]
        }
      ]
    },
    {
      "cell_type": "code",
      "source": [
        "age = int(input('What is your age >>> '))\n",
        "\n",
        "if age >=18:\n",
        "  print('You can vote')\n",
        "elif age == 17:\n",
        "  print('You can learn to drive')\n",
        "elif age == 16:\n",
        "  print('You can but a lottery ticket')\n",
        "else:\n",
        "  print('You can go Trick or Treating')"
      ],
      "metadata": {
        "colab": {
          "base_uri": "https://localhost:8080/"
        },
        "id": "RAnS-TRw70Ly",
        "outputId": "2db44397-986c-4be4-d67f-bcb976f0f173"
      },
      "execution_count": 27,
      "outputs": [
        {
          "output_type": "stream",
          "name": "stdout",
          "text": [
            "What is your age >>> 15\n",
            "You can go Trick or Treating\n"
          ]
        }
      ]
    },
    {
      "cell_type": "code",
      "source": [
        "name = str(input('name'))\n",
        "print(len(name))"
      ],
      "metadata": {
        "colab": {
          "base_uri": "https://localhost:8080/"
        },
        "id": "O0w_MXTb5wFE",
        "outputId": "711532fd-4d02-4c4d-c76f-ffab0099ab30"
      },
      "execution_count": 30,
      "outputs": [
        {
          "output_type": "stream",
          "name": "stdout",
          "text": [
            "name김민희\n",
            "3\n"
          ]
        }
      ]
    },
    {
      "cell_type": "code",
      "source": [
        "fname = str(input('First name'))\n",
        "lname = str(input('Lastname'))\n",
        "print(fname.capitalize()+lname.capitalize())"
      ],
      "metadata": {
        "colab": {
          "base_uri": "https://localhost:8080/"
        },
        "id": "7iCgoSlXFJ5R",
        "outputId": "f9dceb33-b94c-488c-a134-5d12c5fd56f2"
      },
      "execution_count": 33,
      "outputs": [
        {
          "output_type": "stream",
          "name": "stdout",
          "text": [
            "First nameminhee\n",
            "Lastnamekim\n",
            "MinheeKim\n"
          ]
        }
      ]
    },
    {
      "cell_type": "code",
      "source": [
        "name = str(input('Enter the name >>> '))\n",
        "\n",
        "if len(name) < 5:\n",
        "  lname = str(input('Enter the last name >>>'))\n",
        "  print(name.upper()+lname.upper())\n",
        "else:\n",
        "  print(name.lower())"
      ],
      "metadata": {
        "colab": {
          "base_uri": "https://localhost:8080/"
        },
        "id": "vgyYWPaPGj-U",
        "outputId": "51cb4ae3-8ce4-4f9e-cd9a-8306cc36b72e"
      },
      "execution_count": 35,
      "outputs": [
        {
          "output_type": "stream",
          "name": "stdout",
          "text": [
            "Enter the name >>> minhee\n",
            "minhee\n"
          ]
        }
      ]
    },
    {
      "cell_type": "code",
      "source": [
        "v = ('a', 'e', 'i', 'o', 'u')\n",
        "word = str(input('enter the word >>>'))\n",
        "\n",
        "if word[0] in v:\n",
        "  print(word+'way')\n",
        "\n",
        "else:\n",
        "  print(pig_latin(word))"
      ],
      "metadata": {
        "colab": {
          "base_uri": "https://localhost:8080/"
        },
        "id": "geL-GgyLTTRz",
        "outputId": "63f8570a-8639-4477-944a-5a3f90a43ff0"
      },
      "execution_count": 55,
      "outputs": [
        {
          "output_type": "stream",
          "name": "stdout",
          "text": [
            "enter the word >>>banana\n",
            "ananabay\n"
          ]
        }
      ]
    },
    {
      "cell_type": "code",
      "source": [
        ""
      ],
      "metadata": {
        "id": "OHOnGOC0V_ZF"
      },
      "execution_count": null,
      "outputs": []
    }
  ]
}